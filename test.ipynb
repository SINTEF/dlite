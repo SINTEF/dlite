{
 "cells": [
  {
   "cell_type": "code",
   "execution_count": 9,
   "metadata": {},
   "outputs": [],
   "source": [
    "import os"
   ]
  },
  {
   "cell_type": "code",
   "execution_count": 10,
   "metadata": {},
   "outputs": [],
   "source": [
    "import re"
   ]
  },
  {
   "cell_type": "code",
   "execution_count": 260,
   "metadata": {},
   "outputs": [],
   "source": [
    "def replace_dims_for_shape_in_c(root_folder, ext):\n",
    "    files_with_dims = []\n",
    "\n",
    "    for folder, _, files in os.walk(root_folder):\n",
    "        for file in files:\n",
    "            file_path = os.path.join(folder, file)\n",
    "            if file_path.endswith(ext):\n",
    "                try:\n",
    "                    with open(file_path, 'r') as myfile:\n",
    "                        file_data = myfile.read()\n",
    "                    if re.search(r'\\bdims\\b', file_data):\n",
    "                        file_data = re.sub(r'\\bdims\\b', 'shape', file_data)\n",
    "                        with open(file_path, 'w') as myfile:\n",
    "                            myfile.write(file_data)\n",
    "\n",
    "                except UnicodeDecodeError:\n",
    "                    print(f\"Could not decode file: {file_path}\")"
   ]
  },
  {
   "cell_type": "code",
   "execution_count": 220,
   "metadata": {},
   "outputs": [],
   "source": [
    "def find_files_with_dims(substr, root_folder):\n",
    "    files_with_dims = {}\n",
    "\n",
    "    for folder, _, files in os.walk(root_folder):\n",
    "        for file in files:\n",
    "            file_path = os.path.join(folder, file)\n",
    "            # if file_path.endswith(f'.{ext}'):\n",
    "            try:\n",
    "                with open(file_path, 'r') as myfile:\n",
    "                    file_data = myfile.read()\n",
    "                    if re.search(rf'\\b{substr}\\b', file_data):\n",
    "                        files_with_dims[file_path] = len(file_data.splitlines())\n",
    "            except UnicodeDecodeError:\n",
    "                # print(f\"Could not decode file: {file_path}\")\n",
    "                pass\n",
    "\n",
    "    return files_with_dims"
   ]
  },
  {
   "cell_type": "code",
   "execution_count": 242,
   "metadata": {},
   "outputs": [],
   "source": [
    "this = 'dims'"
   ]
  },
  {
   "cell_type": "code",
   "execution_count": 255,
   "metadata": {},
   "outputs": [],
   "source": [
    "here = '/home/alfredosg/team40/dlite/'"
   ]
  },
  {
   "cell_type": "code",
   "execution_count": 256,
   "metadata": {},
   "outputs": [
    {
     "data": {
      "text/plain": [
       "67"
      ]
     },
     "execution_count": 256,
     "metadata": {},
     "output_type": "execute_result"
    }
   ],
   "source": [
    "len(find_files_with_dims('dims',here))"
   ]
  },
  {
   "cell_type": "code",
   "execution_count": 279,
   "metadata": {},
   "outputs": [
    {
     "data": {
      "text/plain": [
       "dict_keys(['/home/alfredosg/team40/dlite/test.ipynb', '/home/alfredosg/team40/dlite/doc/user_guide/collections.md', '/home/alfredosg/team40/dlite/doc/user_guide/storage_plugins.md', '/home/alfredosg/team40/dlite/doc/user_guide/type-system.md', '/home/alfredosg/team40/dlite/doc/user_guide/concepts.md', '/home/alfredosg/team40/dlite/doc/_static/datamodel.svg', '/home/alfredosg/team40/dlite/doc/_static/datamodel.xml', '/home/alfredosg/team40/dlite/pydoc/autoapi/dlite/index.rst', '/home/alfredosg/team40/dlite/pydoc/autoapi/dlite/dlite/index.rst', '/home/alfredosg/team40/dlite/pydoc/autoapi/dlite/datamodel/index.rst', '/home/alfredosg/team40/dlite/pydoc/autoapi/dlite/mappings/index.rst', '/home/alfredosg/team40/dlite/pydoc/autoapi/pythonstorageplugins/postgresql/index.rst', '/home/alfredosg/team40/dlite/python/DLite_Python.egg-info/PKG-INFO', '/home/alfredosg/team40/dlite/python/build/lib.linux-x86_64-3.8/dlite/dlite.py', '/home/alfredosg/team40/dlite/python/build/lib.linux-x86_64-3.8/dlite/factory.py', '/home/alfredosg/team40/dlite/python/build/lib.linux-x86_64-3.8/dlite/mappings.py', '/home/alfredosg/team40/dlite/python/build/lib.linux-x86_64-3.8/dlite/rdf.py', '/home/alfredosg/team40/dlite/python/build/lib.linux-x86_64-3.8/dlite/datamodel.py', '/home/alfredosg/team40/dlite/python/build/lib.linux-x86_64-3.8/dlite/utils.py', '/home/alfredosg/team40/dlite/python/build/lib.linux-x86_64-3.8/dlite/share/dlite/python-storage-plugins/csv.py', '/home/alfredosg/team40/dlite/python/build/lib.linux-x86_64-3.8/dlite/share/dlite/python-storage-plugins/postgresql.py', '/home/alfredosg/team40/dlite/python/build/lib.linux-x86_64-3.8/dlite/share/dlite/python-storage-plugins/blob.py', '/home/alfredosg/team40/dlite/python/build/temp.linux-x86_64-3.8/bindings/python/dlite/dlite.py', '/home/alfredosg/team40/dlite/python/build/temp.linux-x86_64-3.8/bindings/python/dlite/factory.py', '/home/alfredosg/team40/dlite/python/build/temp.linux-x86_64-3.8/bindings/python/dlite/mappings.py', '/home/alfredosg/team40/dlite/python/build/temp.linux-x86_64-3.8/bindings/python/dlite/rdf.py', '/home/alfredosg/team40/dlite/python/build/temp.linux-x86_64-3.8/bindings/python/dlite/datamodel.py', '/home/alfredosg/team40/dlite/python/build/temp.linux-x86_64-3.8/bindings/python/dlite/utils.py', '/home/alfredosg/team40/dlite/python/build/temp.linux-x86_64-3.8/bindings/python/dlite/share/dlite/python-storage-plugins/csv.py', '/home/alfredosg/team40/dlite/python/build/temp.linux-x86_64-3.8/bindings/python/dlite/share/dlite/python-storage-plugins/postgresql.py', '/home/alfredosg/team40/dlite/python/build/temp.linux-x86_64-3.8/bindings/python/dlite/share/dlite/python-storage-plugins/blob.py', '/home/alfredosg/team40/dlite/python/build/temp.linux-x86_64-3.8/tools/tests/chemistry_schema.h', '/home/alfredosg/team40/dlite/python/build/temp.linux-x86_64-3.8/tools/tests/chemistry.h', '/home/alfredosg/team40/dlite/.git/FETCH_HEAD', '/home/alfredosg/team40/dlite/.git/config', '/home/alfredosg/team40/dlite/.git/HEAD', '/home/alfredosg/team40/dlite/.git/logs/HEAD', '/home/alfredosg/team40/dlite/.git/logs/refs/heads/192-rename-dims-to-shape-throughout-dlite', '/home/alfredosg/team40/dlite/storages/python/tests-python/input/postgresql_test_data_save.txt', '/home/alfredosg/team40/dlite/storages/python/tests-python/input/postgresql_test_meta_save.txt', '/home/alfredosg/team40/dlite/storages/rdf/tests/data.xml', '/home/alfredosg/team40/dlite/tools/templates/c-header.txt', '/home/alfredosg/team40/dlite/tools/templates/fortran-module.txt', '/home/alfredosg/team40/dlite/tools/templates/c-meta-header.txt', '/home/alfredosg/team40/dlite/tools/templates/c-source.txt'])"
      ]
     },
     "execution_count": 279,
     "metadata": {},
     "output_type": "execute_result"
    }
   ],
   "source": [
    "find_files_with_dims('dims',here).keys()"
   ]
  },
  {
   "cell_type": "code",
   "execution_count": 290,
   "metadata": {},
   "outputs": [
    {
     "name": "stdout",
     "output_type": "stream",
     "text": [
      "/home/alfredosg/team40/dlite/Dockerfile\n",
      "/home/alfredosg/team40/dlite/README.md\n",
      "/home/alfredosg/team40/dlite/.gitignore\n",
      "/home/alfredosg/team40/dlite/test.ipynb\n",
      "/home/alfredosg/team40/dlite/doc/user_guide/tools.md\n",
      "/home/alfredosg/team40/dlite/doc/getting_started/build/runtime_dependencies.md\n",
      "/home/alfredosg/team40/dlite/doc/getting_started/build/build.md\n",
      "/home/alfredosg/team40/dlite/doc/getting_started/build/build_dependencies.md\n",
      "/home/alfredosg/team40/dlite/doc/getting_started/build/build_with_vs.md\n",
      "/home/alfredosg/team40/dlite/doc/getting_started/build/build_against_python_env.md\n",
      "/home/alfredosg/team40/dlite/doc/contributors_guide/tips_and_tricks.md\n",
      "/home/alfredosg/team40/dlite/src/config.h.in\n",
      "/home/alfredosg/team40/dlite/src/dlite-codegen.c\n",
      "/home/alfredosg/team40/dlite/src/CMakeLists.txt\n",
      "/home/alfredosg/team40/dlite/src/utils/byteorder.h.in\n",
      "/home/alfredosg/team40/dlite/src/utils/fileutils.h\n",
      "/home/alfredosg/team40/dlite/src/utils/fileutils.c\n",
      "/home/alfredosg/team40/dlite/src/utils/tests/test_fileutils.c\n",
      "/home/alfredosg/team40/dlite/src/utils/tests/tgen_example.c\n",
      "/home/alfredosg/team40/dlite/src/utils/tests/test_sha3_slow.c\n",
      "/home/alfredosg/team40/dlite/src/utils/tests/test_urlsplit.c\n",
      "/home/alfredosg/team40/dlite/src/tests/minunit/README.md\n",
      "/home/alfredosg/team40/dlite/python/setup.py\n",
      "/home/alfredosg/team40/dlite/python/pyproject.toml\n",
      "/home/alfredosg/team40/dlite/python/MANIFEST.in\n",
      "/home/alfredosg/team40/dlite/python/DLite_Python.egg-info/SOURCES.txt\n",
      "/home/alfredosg/team40/dlite/python/DLite_Python.egg-info/PKG-INFO\n",
      "/home/alfredosg/team40/dlite/python/build/lib.linux-x86_64-3.8/dlite/triplestore/units.py\n",
      "/home/alfredosg/team40/dlite/python/build/temp.linux-x86_64-3.8/cmake_install.cmake\n",
      "/home/alfredosg/team40/dlite/python/build/temp.linux-x86_64-3.8/CPackSourceConfig.cmake\n",
      "/home/alfredosg/team40/dlite/python/build/temp.linux-x86_64-3.8/CPackConfig.cmake\n",
      "/home/alfredosg/team40/dlite/python/build/temp.linux-x86_64-3.8/CMakeCache.txt\n",
      "/home/alfredosg/team40/dlite/python/build/temp.linux-x86_64-3.8/src/dlite-getlicense.c\n",
      "/home/alfredosg/team40/dlite/python/build/temp.linux-x86_64-3.8/src/utils/byteorder.h\n",
      "/home/alfredosg/team40/dlite/python/build/temp.linux-x86_64-3.8/src/utils/tests/CTestTestfile.cmake\n",
      "/home/alfredosg/team40/dlite/python/build/temp.linux-x86_64-3.8/src/utils/tests/CMakeFiles/test_snprintf.dir/build.make\n",
      "/home/alfredosg/team40/dlite/python/build/temp.linux-x86_64-3.8/src/utils/tests/CMakeFiles/test_infixcalc.dir/build.make\n",
      "/home/alfredosg/team40/dlite/python/build/temp.linux-x86_64-3.8/src/utils/tests/CMakeFiles/test_plugin_lib.dir/build.make\n",
      "/home/alfredosg/team40/dlite/python/build/temp.linux-x86_64-3.8/src/utils/tests/CMakeFiles/test_uuid.dir/build.make\n",
      "/home/alfredosg/team40/dlite/python/build/temp.linux-x86_64-3.8/src/utils/tests/CMakeFiles/test_jstore.dir/build.make\n",
      "/home/alfredosg/team40/dlite/python/build/temp.linux-x86_64-3.8/src/utils/tests/CMakeFiles/test_map.dir/build.make\n",
      "/home/alfredosg/team40/dlite/python/build/temp.linux-x86_64-3.8/src/utils/tests/CMakeFiles/test_fileutils.dir/build.make\n",
      "/home/alfredosg/team40/dlite/python/build/temp.linux-x86_64-3.8/src/utils/tests/CMakeFiles/test_uuid2.dir/build.make\n",
      "/home/alfredosg/team40/dlite/python/build/temp.linux-x86_64-3.8/src/utils/tests/CMakeFiles/test_tmpfileplus.dir/build.make\n",
      "/home/alfredosg/team40/dlite/python/build/temp.linux-x86_64-3.8/src/utils/tests/CMakeFiles/test_strtob.dir/build.make\n",
      "/home/alfredosg/team40/dlite/python/build/temp.linux-x86_64-3.8/src/utils/tests/CMakeFiles/test_err.dir/build.make\n",
      "/home/alfredosg/team40/dlite/python/build/temp.linux-x86_64-3.8/src/utils/tests/CMakeFiles/test_jsmnx.dir/build.make\n",
      "/home/alfredosg/team40/dlite/python/build/temp.linux-x86_64-3.8/src/utils/tests/CMakeFiles/test_dsl.dir/build.make\n",
      "/home/alfredosg/team40/dlite/python/build/temp.linux-x86_64-3.8/src/utils/tests/CMakeFiles/test_dsl_lib.dir/build.make\n",
      "/home/alfredosg/team40/dlite/python/build/temp.linux-x86_64-3.8/src/utils/tests/CMakeFiles/test_fileinfo.dir/build.make\n",
      "/home/alfredosg/team40/dlite/python/build/temp.linux-x86_64-3.8/src/utils/tests/CMakeFiles/test_strutils.dir/build.make\n",
      "/home/alfredosg/team40/dlite/python/build/temp.linux-x86_64-3.8/src/utils/tests/CMakeFiles/test_execprocess.dir/build.make\n",
      "/home/alfredosg/team40/dlite/python/build/temp.linux-x86_64-3.8/src/utils/tests/CMakeFiles/test_session.dir/build.make\n",
      "/home/alfredosg/team40/dlite/python/build/temp.linux-x86_64-3.8/src/utils/tests/CMakeFiles/test_bson.dir/build.make\n",
      "/home/alfredosg/team40/dlite/python/build/temp.linux-x86_64-3.8/src/utils/tests/CMakeFiles/test_globmatch.dir/build.make\n",
      "/home/alfredosg/team40/dlite/python/build/temp.linux-x86_64-3.8/src/utils/tests/CMakeFiles/test_tgen.dir/build.make\n",
      "/home/alfredosg/team40/dlite/python/build/temp.linux-x86_64-3.8/src/utils/tests/CMakeFiles/test_uuid4.dir/build.make\n",
      "/home/alfredosg/team40/dlite/python/build/temp.linux-x86_64-3.8/src/utils/tests/CMakeFiles/test_compat.dir/build.make\n",
      "/home/alfredosg/team40/dlite/python/build/temp.linux-x86_64-3.8/src/utils/tests/CMakeFiles/test_plugin.dir/build.make\n",
      "/home/alfredosg/team40/dlite/python/build/temp.linux-x86_64-3.8/src/utils/tests/CMakeFiles/tgen_example.dir/build.make\n",
      "/home/alfredosg/team40/dlite/python/build/temp.linux-x86_64-3.8/src/utils/tests/CMakeFiles/test_sha3.dir/build.make\n",
      "/home/alfredosg/team40/dlite/python/build/temp.linux-x86_64-3.8/src/utils/CMakeFiles/dlite-utils-static.dir/build.make\n",
      "/home/alfredosg/team40/dlite/python/build/temp.linux-x86_64-3.8/src/utils/CMakeFiles/dlite-utils.dir/build.make\n",
      "/home/alfredosg/team40/dlite/python/build/temp.linux-x86_64-3.8/src/tests/CTestTestfile.cmake\n",
      "/home/alfredosg/team40/dlite/python/build/temp.linux-x86_64-3.8/src/tests/python/CTestTestfile.cmake\n",
      "/home/alfredosg/team40/dlite/python/build/temp.linux-x86_64-3.8/src/tests/python/CMakeFiles/test_pyembed.dir/build.make\n",
      "/home/alfredosg/team40/dlite/python/build/temp.linux-x86_64-3.8/src/tests/python/CMakeFiles/test_python_mapping.dir/build.make\n",
      "/home/alfredosg/team40/dlite/python/build/temp.linux-x86_64-3.8/src/tests/mappings/CMakeFiles/mapA.dir/build.make\n",
      "/home/alfredosg/team40/dlite/python/build/temp.linux-x86_64-3.8/src/tests/CMakeFiles/test_storage_lookup.dir/build.make\n",
      "/home/alfredosg/team40/dlite/python/build/temp.linux-x86_64-3.8/src/tests/CMakeFiles/test_property.dir/build.make\n",
      "/home/alfredosg/team40/dlite/python/build/temp.linux-x86_64-3.8/src/tests/CMakeFiles/test_ref.dir/build.make\n",
      "/home/alfredosg/team40/dlite/python/build/temp.linux-x86_64-3.8/src/tests/CMakeFiles/test_storage.dir/build.make\n",
      "/home/alfredosg/team40/dlite/python/build/temp.linux-x86_64-3.8/src/tests/CMakeFiles/test_arrays.dir/build.make\n",
      "/home/alfredosg/team40/dlite/python/build/temp.linux-x86_64-3.8/src/tests/CMakeFiles/test_mapping.dir/build.make\n",
      "/home/alfredosg/team40/dlite/python/build/temp.linux-x86_64-3.8/src/tests/CMakeFiles/test_type.dir/build.make\n",
      "/home/alfredosg/team40/dlite/python/build/temp.linux-x86_64-3.8/src/tests/CMakeFiles/test_getuuid.dir/build.make\n",
      "/home/alfredosg/team40/dlite/python/build/temp.linux-x86_64-3.8/src/tests/CMakeFiles/test_triplestore.dir/build.make\n",
      "/home/alfredosg/team40/dlite/python/build/temp.linux-x86_64-3.8/src/tests/CMakeFiles/test_json_entity.dir/build.make\n",
      "/home/alfredosg/team40/dlite/python/build/temp.linux-x86_64-3.8/src/tests/CMakeFiles/test_schemas.dir/build.make\n",
      "/home/alfredosg/team40/dlite/python/build/temp.linux-x86_64-3.8/src/tests/CMakeFiles/test_collection.dir/build.make\n",
      "/home/alfredosg/team40/dlite/python/build/temp.linux-x86_64-3.8/src/tests/CMakeFiles/test_entity.dir/build.make\n",
      "/home/alfredosg/team40/dlite/python/build/temp.linux-x86_64-3.8/src/tests/CMakeFiles/test_store.dir/build.make\n",
      "/home/alfredosg/team40/dlite/python/build/temp.linux-x86_64-3.8/src/tests/CMakeFiles/test_json.dir/build.make\n",
      "/home/alfredosg/team40/dlite/python/build/temp.linux-x86_64-3.8/src/tests/CMakeFiles/test_misc.dir/build.make\n",
      "/home/alfredosg/team40/dlite/python/build/temp.linux-x86_64-3.8/src/tests/CMakeFiles/test_metamodel.dir/build.make\n",
      "/home/alfredosg/team40/dlite/python/build/temp.linux-x86_64-3.8/src/tests/CMakeFiles/test_dlitebson.dir/build.make\n",
      "/home/alfredosg/team40/dlite/python/build/temp.linux-x86_64-3.8/src/CMakeFiles/dlite-static.dir/build.make\n",
      "/home/alfredosg/team40/dlite/python/build/temp.linux-x86_64-3.8/src/CMakeFiles/gencfile.dir/build.make\n",
      "/home/alfredosg/team40/dlite/python/build/temp.linux-x86_64-3.8/src/CMakeFiles/dlite.dir/build.make\n",
      "/home/alfredosg/team40/dlite/python/build/temp.linux-x86_64-3.8/storages/python/tests-c/CTestTestfile.cmake\n",
      "/home/alfredosg/team40/dlite/python/build/temp.linux-x86_64-3.8/storages/python/tests-c/CMakeFiles/test_yaml_storage.dir/build.make\n",
      "/home/alfredosg/team40/dlite/python/build/temp.linux-x86_64-3.8/storages/python/tests-c/CMakeFiles/test_blob_storage.dir/build.make\n",
      "/home/alfredosg/team40/dlite/python/build/temp.linux-x86_64-3.8/storages/python/tests-c/CMakeFiles/test_bson_storage.dir/build.make\n",
      "/home/alfredosg/team40/dlite/python/build/temp.linux-x86_64-3.8/storages/python/CMakeFiles/dlite-plugins-python.dir/build.make\n",
      "/home/alfredosg/team40/dlite/python/build/temp.linux-x86_64-3.8/storages/python/tests-python/CTestTestfile.cmake\n",
      "/home/alfredosg/team40/dlite/python/build/temp.linux-x86_64-3.8/storages/json/tests/CTestTestfile.cmake\n",
      "/home/alfredosg/team40/dlite/python/build/temp.linux-x86_64-3.8/storages/json/tests/CMakeFiles/test_json_storage.dir/build.make\n",
      "/home/alfredosg/team40/dlite/python/build/temp.linux-x86_64-3.8/storages/json/CMakeFiles/dlite-plugins-json.dir/build.make\n",
      "/home/alfredosg/team40/dlite/python/build/temp.linux-x86_64-3.8/bindings/python/dlite/triplestore/units.py\n",
      "/home/alfredosg/team40/dlite/python/build/temp.linux-x86_64-3.8/bindings/python/tests/CTestTestfile.cmake\n",
      "/home/alfredosg/team40/dlite/python/build/temp.linux-x86_64-3.8/bindings/python/CMakeFiles/dlitepy.dir/build.make\n",
      "/home/alfredosg/team40/dlite/python/build/temp.linux-x86_64-3.8/CMakeFiles/VerifyGlobs.cmake\n",
      "/home/alfredosg/team40/dlite/python/build/temp.linux-x86_64-3.8/CMakeFiles/Makefile.cmake\n",
      "/home/alfredosg/team40/dlite/python/build/temp.linux-x86_64-3.8/CMakeFiles/cmake.check_cache\n",
      "/home/alfredosg/team40/dlite/python/build/temp.linux-x86_64-3.8/CMakeFiles/CMakeOutput.log\n",
      "/home/alfredosg/team40/dlite/python/build/temp.linux-x86_64-3.8/tools/tests/chemistry.c\n",
      "/home/alfredosg/team40/dlite/python/build/temp.linux-x86_64-3.8/tools/tests/chemistry_schema.h\n",
      "/home/alfredosg/team40/dlite/python/build/temp.linux-x86_64-3.8/tools/tests/CTestTestfile.cmake\n",
      "/home/alfredosg/team40/dlite/python/build/temp.linux-x86_64-3.8/tools/tests/chemistry.h\n",
      "/home/alfredosg/team40/dlite/python/build/temp.linux-x86_64-3.8/tools/tests/CMakeFiles/test_codegen.dir/build.make\n",
      "/home/alfredosg/team40/dlite/python/build/temp.linux-x86_64-3.8/tools/tests/CMakeFiles/test_c_source.dir/build.make\n",
      "/home/alfredosg/team40/dlite/python/build/temp.linux-x86_64-3.8/tools/tests/CMakeFiles/test_ext_header.dir/build.make\n",
      "/home/alfredosg/team40/dlite/python/build/temp.linux-x86_64-3.8/tools/CMakeFiles/dlite-codegen.dir/build.make\n",
      "/home/alfredosg/team40/dlite/python/build/temp.linux-x86_64-3.8/tools/CMakeFiles/dlite-getuuid.dir/build.make\n",
      "/home/alfredosg/team40/dlite/python/build/temp.linux-x86_64-3.8/tools/CMakeFiles/dlite-env.dir/build.make\n",
      "/home/alfredosg/team40/dlite/cmake/valgrind-log2supp.py\n",
      "/home/alfredosg/team40/dlite/cmake/UseSWIG314.cmake\n",
      "/home/alfredosg/team40/dlite/cmake/FindPackageMessage314.cmake\n",
      "/home/alfredosg/team40/dlite/cmake/FindSWIG314.cmake\n",
      "/home/alfredosg/team40/dlite/cmake/build-python3.7.cmake\n",
      "/home/alfredosg/team40/dlite/cmake/FindPackageHandleStandardArgs314.cmake\n",
      "/home/alfredosg/team40/dlite/cmake/dliteCodeGen.cmake\n",
      "/home/alfredosg/team40/dlite/storages/python/tests-python/test_postgresql_storage_python.py\n",
      "/home/alfredosg/team40/dlite/storages/python/tests-python/test_mongodb-atlas_python.py\n",
      "/home/alfredosg/team40/dlite/bindings/python/doxy2swig.py\n",
      "/home/alfredosg/team40/dlite/bindings/python/CMakeLists.txt\n",
      "/home/alfredosg/team40/dlite/bindings/python/scripts/setup.py\n",
      "/home/alfredosg/team40/dlite/bindings/python/scripts/dlite.egg-info/SOURCES.txt\n",
      "/home/alfredosg/team40/dlite/bindings/python/tests/test_storage_path.py\n",
      "/home/alfredosg/team40/dlite/bindings/python/triplestore/units_README.md\n",
      "/home/alfredosg/team40/dlite/bindings/python/triplestore/units.py\n",
      "/home/alfredosg/team40/dlite/examples/storage_plugin/main.py\n",
      "/home/alfredosg/team40/dlite/examples/storage_plugin/README.md\n",
      "/home/alfredosg/team40/dlite/examples/storage_plugin/.gitignore\n",
      "/home/alfredosg/team40/dlite/examples/ex5d/philibtable.h\n",
      "/home/alfredosg/team40/dlite/tools/templates/c-header.txt\n",
      "/home/alfredosg/team40/dlite/tools/templates/fortran-module.txt\n",
      "/home/alfredosg/team40/dlite/tools/templates/c-meta-header.txt\n",
      "/home/alfredosg/team40/dlite/tools/templates/c-source.txt\n",
      "/home/alfredosg/team40/dlite/tools/bindgen/bindgen.py\n",
      "/home/alfredosg/team40/dlite/.github/workflows/cd_docs.yml\n",
      "/home/alfredosg/team40/dlite/.github/workflows/container_builds_weekly.yml\n",
      "/home/alfredosg/team40/dlite/.github/workflows/ci_tests.yml\n",
      "/home/alfredosg/team40/dlite/.github/workflows/cd_release.yml\n",
      "/home/alfredosg/team40/dlite/.github/docker/Dockerfile-musllinux.template\n",
      "/home/alfredosg/team40/dlite/.github/docker/Dockerfile-mingw\n",
      "/home/alfredosg/team40/dlite/.github/docker/Dockerfile-manylinux.template\n"
     ]
    }
   ],
   "source": [
    "for i in find_files_with_dims('txt',here).keys():\n",
    "    # if i.endswith('c') and not i.startswith('/home/alfredosg/team40/dlite/python/build/'):\n",
    "    if i.startswith('/home/alfredosg/team40/dlite/'):\n",
    "        print(i)"
   ]
  },
  {
   "cell_type": "code",
   "execution_count": 262,
   "metadata": {},
   "outputs": [
    {
     "name": "stdout",
     "output_type": "stream",
     "text": [
      "Could not decode file: /home/alfredosg/team40/dlite/python/build/temp.linux-x86_64-3.8/src/tests/test_json\n"
     ]
    }
   ],
   "source": [
    "replace_dims_for_shape_in_c(here, 'json')"
   ]
  },
  {
   "cell_type": "code",
   "execution_count": null,
   "metadata": {},
   "outputs": [],
   "source": []
  }
 ],
 "metadata": {
  "kernelspec": {
   "display_name": "dlite",
   "language": "python",
   "name": "python3"
  },
  "language_info": {
   "codemirror_mode": {
    "name": "ipython",
    "version": 3
   },
   "file_extension": ".py",
   "mimetype": "text/x-python",
   "name": "python",
   "nbconvert_exporter": "python",
   "pygments_lexer": "ipython3",
   "version": "3.8.10"
  },
  "orig_nbformat": 4
 },
 "nbformat": 4,
 "nbformat_minor": 2
}
