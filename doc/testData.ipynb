{
 "cells": [
  {
   "cell_type": "code",
   "execution_count": null,
   "metadata": {},
   "outputs": [],
   "source": [
    "import pandas as pd\n",
    "import numpy as np\n",
    "import json\n",
    "import dlite"
   ]
  },
  {
   "cell_type": "code",
   "execution_count": null,
   "metadata": {},
   "outputs": [],
   "source": [
    "df = pd.read_csv('../../test/test_oktober.csv', encoding = \"ISO-8859-1\", sep=';', parse_dates=['Timestamp'], header = 0).iloc[::6]"
   ]
  },
  {
   "cell_type": "code",
   "execution_count": null,
   "metadata": {},
   "outputs": [],
   "source": [
    "df2=df.iloc[18000:18005,40:45]\n",
    "df2.reset_index(inplace=True)\n",
    "df2.rename(columns={\"MPP \\u00b9 [W] (Alpha Centauri - M3-MS04)\": \"MPP_MS04\",\n",
    "           \"MPP \\u00b9 [W] (Alpha Centauri - M4-MS05)\": \"MPP_MS05\",\n",
    "           \"MPP \\u00b9 [W] (Alpha Centauri - M4-MS06)\": \"MPP_MS06\",\n",
    "           \"MPP \\u00b9 [W] (Alpha Centauri - M1-MS07)\": \"MPP_MS07\",\n",
    "           \"MPP \\u00b9 [W] (Alpha Centauri - M1-MS08)\": \"MPP_MS08\"}, inplace=True)\n",
    "df2 = df2.drop('index',axis=1)\n",
    "df2.insert(0,\"time\",df.iloc[40:45,0])"
   ]
  },
  {
   "cell_type": "code",
   "execution_count": null,
   "metadata": {},
   "outputs": [],
   "source": [
    "df.iloc[40:45,0]"
   ]
  },
  {
   "cell_type": "code",
   "execution_count": null,
   "metadata": {},
   "outputs": [],
   "source": [
    "df2"
   ]
  },
  {
   "cell_type": "code",
   "execution_count": null,
   "metadata": {},
   "outputs": [],
   "source": [
    "df2.to_csv('data.csv')"
   ]
  },
  {
   "cell_type": "code",
   "execution_count": null,
   "metadata": {},
   "outputs": [],
   "source": [
    "csv = dlite.Instance.from_url(f'csv://data.csv')"
   ]
  },
  {
   "cell_type": "code",
   "execution_count": null,
   "metadata": {},
   "outputs": [],
   "source": [
    "csv.uuid"
   ]
  },
  {
   "cell_type": "code",
   "execution_count": null,
   "metadata": {},
   "outputs": [],
   "source": [
    "import dlite"
   ]
  },
  {
   "cell_type": "code",
   "execution_count": null,
   "metadata": {},
   "outputs": [],
   "source": [
    "Entity_method2_1 = dlite.Instance.from_location('json','myEntity.json')\n",
    "Entity_method3_1 = dlite.Instance.from_location('json','myEntity_3.json')"
   ]
  },
  {
   "cell_type": "code",
   "execution_count": null,
   "metadata": {},
   "outputs": [],
   "source": [
    "Entity_method3_1.uri"
   ]
  },
  {
   "cell_type": "code",
   "execution_count": 13,
   "metadata": {},
   "outputs": [],
   "source": [
    "dlite.storage_path.append('myEntity.json')\n",
    "dlite.storage_path.append('myEntity_3.json')"
   ]
  },
  {
   "cell_type": "code",
   "execution_count": null,
   "metadata": {},
   "outputs": [],
   "source": [
    "Entity_method2_2 = dlite.get_instance(\"http://www.ontotrans.eu/0.1/solarPanelMeasurement_2\")\n",
    "\n",
    "Entity_method3_2 = dlite.get_instance(\"http://www.ontotrans.eu/0.1/solarPanelMeasurement\")"
   ]
  },
  {
   "cell_type": "code",
   "execution_count": 16,
   "metadata": {},
   "outputs": [
    {
     "name": "stdout",
     "output_type": "stream",
     "text": [
      "http://www.ontotrans.eu/0.1/solarPanelMeasurement_2\n"
     ]
    }
   ],
   "source": [
    "import json\n",
    "f = open('myEntity.json')\n",
    "data = json.load(f)\n",
    "print(data['uri'])"
   ]
  },
  {
   "cell_type": "code",
   "execution_count": null,
   "metadata": {},
   "outputs": [],
   "source": []
  },
  {
   "attachments": {},
   "cell_type": "markdown",
   "metadata": {},
   "source": [
    "## tips på tutorialen: bruk json bibliotek"
   ]
  },
  {
   "attachments": {},
   "cell_type": "markdown",
   "metadata": {},
   "source": [
    "## jesper hjælp"
   ]
  },
  {
   "attachments": {},
   "cell_type": "markdown",
   "metadata": {},
   "source": [
    "what if 2 "
   ]
  },
  {
   "cell_type": "code",
   "execution_count": null,
   "metadata": {},
   "outputs": [],
   "source": [
    "e = Entity_method2_2(dims=[5])"
   ]
  },
  {
   "cell_type": "code",
   "execution_count": null,
   "metadata": {},
   "outputs": [],
   "source": [
    "e2 = Entity_method2_2([1])"
   ]
  },
  {
   "cell_type": "code",
   "execution_count": null,
   "metadata": {},
   "outputs": [],
   "source": [
    "print(e2)"
   ]
  },
  {
   "cell_type": "code",
   "execution_count": null,
   "metadata": {},
   "outputs": [],
   "source": [
    "liste = [1,2,3,4,5]\n",
    "e2.properties['t']=np.append(e2.properties['t'],liste,0)"
   ]
  },
  {
   "cell_type": "code",
   "execution_count": null,
   "metadata": {},
   "outputs": [],
   "source": [
    "e2.properties['t']"
   ]
  },
  {
   "cell_type": "code",
   "execution_count": null,
   "metadata": {},
   "outputs": [],
   "source": [
    "print(len(e2.properties['t']))"
   ]
  },
  {
   "cell_type": "code",
   "execution_count": null,
   "metadata": {},
   "outputs": [],
   "source": [
    "print(e2.meta.uri)"
   ]
  },
  {
   "cell_type": "code",
   "execution_count": null,
   "metadata": {},
   "outputs": [],
   "source": [
    "# Entity_method2_2_csv2_2 = dlite.Instance.from_url(f'csv://data.csv',e2.uuid)"
   ]
  },
  {
   "cell_type": "code",
   "execution_count": null,
   "metadata": {},
   "outputs": [],
   "source": [
    "e2.uuid == e2.meta.uuid"
   ]
  },
  {
   "cell_type": "code",
   "execution_count": null,
   "metadata": {},
   "outputs": [],
   "source": [
    "print(e)"
   ]
  },
  {
   "cell_type": "code",
   "execution_count": null,
   "metadata": {},
   "outputs": [],
   "source": [
    "e.properties[\"t\"] = df2.iloc[:,0]"
   ]
  },
  {
   "cell_type": "code",
   "execution_count": null,
   "metadata": {},
   "outputs": [],
   "source": [
    "df2.iloc[:,0]"
   ]
  },
  {
   "cell_type": "code",
   "execution_count": null,
   "metadata": {},
   "outputs": [],
   "source": [
    "test=[1,2,3,4,5]"
   ]
  },
  {
   "cell_type": "code",
   "execution_count": null,
   "metadata": {},
   "outputs": [],
   "source": [
    "e.properties[\"t\"]=test"
   ]
  },
  {
   "cell_type": "code",
   "execution_count": null,
   "metadata": {},
   "outputs": [],
   "source": [
    "print(e.properties[\"t\"])"
   ]
  },
  {
   "cell_type": "code",
   "execution_count": null,
   "metadata": {},
   "outputs": [],
   "source": [
    "Entity_method3_2_csv2 = dlite.Instance.from_url(f'csv://data.csv','e860e8d6-7eff-5437-aaf7-4bec363cb680')"
   ]
  },
  {
   "cell_type": "code",
   "execution_count": null,
   "metadata": {},
   "outputs": [],
   "source": [
    "Entity_method3_2_csv = dlite.Instance.from_url(f'csv://data.csv')"
   ]
  },
  {
   "cell_type": "code",
   "execution_count": null,
   "metadata": {},
   "outputs": [],
   "source": [
    "print(Entity_method3_2_csv)"
   ]
  },
  {
   "cell_type": "code",
   "execution_count": null,
   "metadata": {},
   "outputs": [],
   "source": [
    "Entity_Jesper = dlite.Instance.from_url(f'csv://data.csv?meta=http://www.ontotrans.eu/0.1/solarPanelMeasurement_Jesp')"
   ]
  },
  {
   "cell_type": "code",
   "execution_count": null,
   "metadata": {},
   "outputs": [],
   "source": []
  },
  {
   "cell_type": "code",
   "execution_count": null,
   "metadata": {},
   "outputs": [],
   "source": [
    "print(Entity_Jesper.properties)"
   ]
  },
  {
   "cell_type": "code",
   "execution_count": 1,
   "metadata": {},
   "outputs": [],
   "source": [
    "import dlite"
   ]
  },
  {
   "cell_type": "code",
   "execution_count": 2,
   "metadata": {},
   "outputs": [],
   "source": [
    "newEntJesp = dlite.Instance.from_location('json','myEntityJesper.json')"
   ]
  },
  {
   "cell_type": "code",
   "execution_count": 11,
   "metadata": {},
   "outputs": [
    {
     "data": {
      "text/plain": [
       "'http://www.ontotrans.eu/0.1/solarPanelMeasurement_Jesp2'"
      ]
     },
     "execution_count": 11,
     "metadata": {},
     "output_type": "execute_result"
    }
   ],
   "source": [
    "newEntJesp.uri"
   ]
  },
  {
   "cell_type": "code",
   "execution_count": 4,
   "metadata": {},
   "outputs": [
    {
     "name": "stderr",
     "output_type": "stream",
     "text": [
      "csv.py:135: UserWarning: csv option infer is true, but explicit instance id \"http://www.ontotrans.eu/0.1/solarPanelMeasurement_Jesp2\" already exists\n",
      "  if extrasaction.lower() not in (\"raise\", \"ignore\"):\n"
     ]
    }
   ],
   "source": [
    "new_Inst_Jesper = dlite.Instance.from_url(f'csv://data_modified.csv?meta=http://www.ontotrans.eu/0.1/solarPanelMeasurement_Jesp2')"
   ]
  },
  {
   "cell_type": "code",
   "execution_count": null,
   "metadata": {},
   "outputs": [],
   "source": [
    "print(new_Inst_Jesper)"
   ]
  },
  {
   "cell_type": "code",
   "execution_count": 12,
   "metadata": {},
   "outputs": [
    {
     "name": "stderr",
     "output_type": "stream",
     "text": [
      "csv.py:135: UserWarning: csv option infer is true, but explicit instance id \"http://www.ontotrans.eu/0.1/solarPanelMeasurement_Jesp2\" already exists\n",
      "  if extrasaction.lower() not in (\"raise\", \"ignore\"):\n"
     ]
    }
   ],
   "source": [
    "new_Inst_Jesper4563 = dlite.Instance.from_url(f'csv://data_modified.csv'+'?meta='+newEntJesp.uri)"
   ]
  },
  {
   "cell_type": "code",
   "execution_count": null,
   "metadata": {},
   "outputs": [],
   "source": [
    "import json"
   ]
  },
  {
   "cell_type": "code",
   "execution_count": 17,
   "metadata": {},
   "outputs": [],
   "source": [
    "import dlite"
   ]
  },
  {
   "cell_type": "code",
   "execution_count": 19,
   "metadata": {},
   "outputs": [
    {
     "ename": "AttributeError",
     "evalue": "'FUPath' object has no attribute '__annotations__'",
     "output_type": "error",
     "traceback": [
      "\u001b[0;31m---------------------------------------------------------------------------\u001b[0m",
      "\u001b[0;31mAttributeError\u001b[0m                            Traceback (most recent call last)",
      "Cell \u001b[0;32mIn [19], line 1\u001b[0m\n\u001b[0;32m----> 1\u001b[0m \u001b[39mprint\u001b[39m(dlite\u001b[39m.\u001b[39;49mstorage_path\u001b[39m.\u001b[39;49m\u001b[39m__annotations__\u001b[39;49m)\n",
      "\u001b[0;31mAttributeError\u001b[0m: 'FUPath' object has no attribute '__annotations__'"
     ]
    }
   ],
   "source": [
    "print(dlite.storage_path)"
   ]
  },
  {
   "cell_type": "code",
   "execution_count": null,
   "metadata": {},
   "outputs": [],
   "source": []
  }
 ],
 "metadata": {
  "kernelspec": {
   "display_name": "Python 3.8.10 ('dlite')",
   "language": "python",
   "name": "python3"
  },
  "language_info": {
   "codemirror_mode": {
    "name": "ipython",
    "version": 3
   },
   "file_extension": ".py",
   "mimetype": "text/x-python",
   "name": "python",
   "nbconvert_exporter": "python",
   "pygments_lexer": "ipython3",
   "version": "3.8.10"
  },
  "orig_nbformat": 4,
  "vscode": {
   "interpreter": {
    "hash": "a591f1f429178838d62e081079ba7d4381fb9fa5e3b6c763ceb2b9189154c08b"
   }
  }
 },
 "nbformat": 4,
 "nbformat_minor": 2
}
