{
 "cells": [
  {
   "cell_type": "code",
   "execution_count": 1,
   "metadata": {},
   "outputs": [],
   "source": [
    "import pandas as pd\n",
    "import numpy as np\n",
    "import json\n",
    "import dlite"
   ]
  },
  {
   "cell_type": "code",
   "execution_count": 2,
   "metadata": {},
   "outputs": [],
   "source": [
    "df = pd.read_csv('test_oktober.csv', encoding = \"ISO-8859-1\", sep=';', parse_dates=['Timestamp'], header = 0).iloc[::6]"
   ]
  },
  {
   "cell_type": "code",
   "execution_count": 3,
   "metadata": {},
   "outputs": [],
   "source": [
    "df2=df.iloc[18000:18005,40:45]\n",
    "df2.reset_index(inplace=True)\n",
    "df2.rename(columns={\"MPP \\u00b9 [W] (Alpha Centauri - M3-MS04)\": \"MPP_MS04\",\n",
    "           \"MPP \\u00b9 [W] (Alpha Centauri - M4-MS05)\": \"MPP_MS05\",\n",
    "           \"MPP \\u00b9 [W] (Alpha Centauri - M4-MS06)\": \"MPP_MS06\",\n",
    "           \"MPP \\u00b9 [W] (Alpha Centauri - M1-MS07)\": \"MPP_MS07\",\n",
    "           \"MPP \\u00b9 [W] (Alpha Centauri - M1-MS08)\": \"MPP_MS08\"}, inplace=True)\n",
    "df2 = df2.drop('index',axis=1)\n",
    "df2.insert(0,\"time\",df.iloc[40:45,0])"
   ]
  },
  {
   "cell_type": "code",
   "execution_count": 4,
   "metadata": {},
   "outputs": [
    {
     "data": {
      "text/plain": [
       "240   2022-08-01 00:41:00\n",
       "246   2022-08-01 00:42:00\n",
       "252   2022-08-01 00:43:00\n",
       "258   2022-08-01 00:44:00\n",
       "264   2022-08-01 00:45:00\n",
       "Name: Timestamp, dtype: datetime64[ns]"
      ]
     },
     "execution_count": 4,
     "metadata": {},
     "output_type": "execute_result"
    }
   ],
   "source": [
    "df.iloc[40:45,0]"
   ]
  },
  {
   "cell_type": "code",
   "execution_count": 5,
   "metadata": {},
   "outputs": [
    {
     "data": {
      "text/html": [
       "<div>\n",
       "<style scoped>\n",
       "    .dataframe tbody tr th:only-of-type {\n",
       "        vertical-align: middle;\n",
       "    }\n",
       "\n",
       "    .dataframe tbody tr th {\n",
       "        vertical-align: top;\n",
       "    }\n",
       "\n",
       "    .dataframe thead th {\n",
       "        text-align: right;\n",
       "    }\n",
       "</style>\n",
       "<table border=\"1\" class=\"dataframe\">\n",
       "  <thead>\n",
       "    <tr style=\"text-align: right;\">\n",
       "      <th></th>\n",
       "      <th>time</th>\n",
       "      <th>MPP_MS04</th>\n",
       "      <th>MPP_MS05</th>\n",
       "      <th>MPP_MS06</th>\n",
       "      <th>MPP_MS07</th>\n",
       "      <th>MPP_MS08</th>\n",
       "    </tr>\n",
       "  </thead>\n",
       "  <tbody>\n",
       "    <tr>\n",
       "      <th>0</th>\n",
       "      <td>NaT</td>\n",
       "      <td>38.182</td>\n",
       "      <td>42.598</td>\n",
       "      <td>37.890</td>\n",
       "      <td>32.873</td>\n",
       "      <td>22.310</td>\n",
       "    </tr>\n",
       "    <tr>\n",
       "      <th>1</th>\n",
       "      <td>NaT</td>\n",
       "      <td>37.029</td>\n",
       "      <td>40.804</td>\n",
       "      <td>36.114</td>\n",
       "      <td>31.865</td>\n",
       "      <td>21.063</td>\n",
       "    </tr>\n",
       "    <tr>\n",
       "      <th>2</th>\n",
       "      <td>NaT</td>\n",
       "      <td>37.387</td>\n",
       "      <td>40.428</td>\n",
       "      <td>35.729</td>\n",
       "      <td>30.950</td>\n",
       "      <td>19.801</td>\n",
       "    </tr>\n",
       "    <tr>\n",
       "      <th>3</th>\n",
       "      <td>NaT</td>\n",
       "      <td>39.107</td>\n",
       "      <td>41.764</td>\n",
       "      <td>36.945</td>\n",
       "      <td>30.509</td>\n",
       "      <td>19.247</td>\n",
       "    </tr>\n",
       "    <tr>\n",
       "      <th>4</th>\n",
       "      <td>NaT</td>\n",
       "      <td>40.179</td>\n",
       "      <td>43.074</td>\n",
       "      <td>38.184</td>\n",
       "      <td>30.796</td>\n",
       "      <td>19.662</td>\n",
       "    </tr>\n",
       "  </tbody>\n",
       "</table>\n",
       "</div>"
      ],
      "text/plain": [
       "  time  MPP_MS04  MPP_MS05  MPP_MS06  MPP_MS07  MPP_MS08\n",
       "0  NaT    38.182    42.598    37.890    32.873    22.310\n",
       "1  NaT    37.029    40.804    36.114    31.865    21.063\n",
       "2  NaT    37.387    40.428    35.729    30.950    19.801\n",
       "3  NaT    39.107    41.764    36.945    30.509    19.247\n",
       "4  NaT    40.179    43.074    38.184    30.796    19.662"
      ]
     },
     "execution_count": 5,
     "metadata": {},
     "output_type": "execute_result"
    }
   ],
   "source": [
    "df2"
   ]
  },
  {
   "cell_type": "code",
   "execution_count": 6,
   "metadata": {},
   "outputs": [],
   "source": [
    "df2.to_csv('data.csv')"
   ]
  },
  {
   "cell_type": "code",
   "execution_count": 7,
   "metadata": {},
   "outputs": [],
   "source": [
    "csv = dlite.Instance.from_url(f'csv://data.csv')"
   ]
  },
  {
   "cell_type": "code",
   "execution_count": 8,
   "metadata": {},
   "outputs": [
    {
     "data": {
      "text/plain": [
       "'1aa261c1-6a68-4260-bff2-af16965025c6'"
      ]
     },
     "execution_count": 8,
     "metadata": {},
     "output_type": "execute_result"
    }
   ],
   "source": [
    "csv.uuid"
   ]
  },
  {
   "cell_type": "code",
   "execution_count": 9,
   "metadata": {},
   "outputs": [],
   "source": [
    "import dlite"
   ]
  },
  {
   "cell_type": "code",
   "execution_count": 21,
   "metadata": {},
   "outputs": [],
   "source": [
    "Entity_method2_1 = dlite.Instance.from_location('json','myEntity.json')\n",
    "Entity_method3_1 = dlite.Instance.from_location('json','myEntity_3.json')"
   ]
  },
  {
   "cell_type": "code",
   "execution_count": 22,
   "metadata": {},
   "outputs": [
    {
     "data": {
      "text/plain": [
       "'http://www.ontotrans.eu/0.1/solarPanelMeasurement'"
      ]
     },
     "execution_count": 22,
     "metadata": {},
     "output_type": "execute_result"
    }
   ],
   "source": [
    "Entity_method3_1.uri"
   ]
  },
  {
   "cell_type": "code",
   "execution_count": 11,
   "metadata": {},
   "outputs": [],
   "source": [
    "dlite.storage_path.append('myEntity.json')\n",
    "dlite.storage_path.append('myEntity_3.json')"
   ]
  },
  {
   "cell_type": "code",
   "execution_count": 23,
   "metadata": {},
   "outputs": [],
   "source": [
    "Entity_method2_2 = dlite.get_instance(\"http://www.ontotrans.eu/0.1/solarPanelMeasurement_2\")\n",
    "\n",
    "Entity_method3_2 = dlite.get_instance(\"http://www.ontotrans.eu/0.1/solarPanelMeasurement\")"
   ]
  },
  {
   "cell_type": "code",
   "execution_count": null,
   "metadata": {},
   "outputs": [],
   "source": []
  },
  {
   "attachments": {},
   "cell_type": "markdown",
   "metadata": {},
   "source": [
    "## tips på tutorialen: bruk json bibliotek"
   ]
  },
  {
   "attachments": {},
   "cell_type": "markdown",
   "metadata": {},
   "source": [
    "## jesper hjælp"
   ]
  },
  {
   "attachments": {},
   "cell_type": "markdown",
   "metadata": {},
   "source": [
    "what if 2 "
   ]
  },
  {
   "cell_type": "code",
   "execution_count": 39,
   "metadata": {},
   "outputs": [],
   "source": [
    "e = Entity_method2_2(dims=[5])"
   ]
  },
  {
   "cell_type": "code",
   "execution_count": 57,
   "metadata": {},
   "outputs": [
    {
     "name": "stdout",
     "output_type": "stream",
     "text": [
      "{\n",
      "  \"uuid\": \"08af9dd5-43b6-4528-b32f-bfd29f06297e\",\n",
      "  \"meta\": \"http://www.ontotrans.eu/0.1/solarPanelMeasurement_2\",\n",
      "  \"dimensions\": {\n",
      "    \"N\": 5\n",
      "  },\n",
      "  \"properties\": {\n",
      "    \"t\": [\n",
      "      0.0,\n",
      "      0.0,\n",
      "      0.0,\n",
      "      0.0,\n",
      "      0.0\n",
      "    ],\n",
      "    \"MPP\": [\n",
      "      0.0,\n",
      "      0.0,\n",
      "      0.0,\n",
      "      0.0,\n",
      "      0.0\n",
      "    ]\n",
      "  }\n",
      "}\n"
     ]
    }
   ],
   "source": [
    "print(e)"
   ]
  },
  {
   "cell_type": "code",
   "execution_count": 47,
   "metadata": {},
   "outputs": [],
   "source": [
    "e.properties[\"t\"] = df2.iloc[:,0]"
   ]
  },
  {
   "cell_type": "code",
   "execution_count": 49,
   "metadata": {},
   "outputs": [
    {
     "data": {
      "text/plain": [
       "0   NaT\n",
       "1   NaT\n",
       "2   NaT\n",
       "3   NaT\n",
       "4   NaT\n",
       "Name: time, dtype: datetime64[ns]"
      ]
     },
     "execution_count": 49,
     "metadata": {},
     "output_type": "execute_result"
    }
   ],
   "source": [
    "df2.iloc[:,0]"
   ]
  },
  {
   "cell_type": "code",
   "execution_count": 52,
   "metadata": {},
   "outputs": [],
   "source": [
    "test=[1,2,3,4,5]"
   ]
  },
  {
   "cell_type": "code",
   "execution_count": 55,
   "metadata": {},
   "outputs": [],
   "source": [
    "e.properties[\"t\"]=test"
   ]
  },
  {
   "cell_type": "code",
   "execution_count": 56,
   "metadata": {},
   "outputs": [
    {
     "name": "stdout",
     "output_type": "stream",
     "text": [
      "[0. 0. 0. 0. 0.]\n"
     ]
    }
   ],
   "source": [
    "print(e.properties[\"t\"])"
   ]
  },
  {
   "cell_type": "code",
   "execution_count": 34,
   "metadata": {},
   "outputs": [
    {
     "name": "stderr",
     "output_type": "stream",
     "text": [
      "** Error 1: ebd1ca18-d457-4ef0-b99c-7dd1ebdcdada has 5 dimensions\n"
     ]
    },
    {
     "ename": "DLiteError",
     "evalue": "Error 1: ebd1ca18-d457-4ef0-b99c-7dd1ebdcdada has 5 dimensions",
     "output_type": "error",
     "traceback": [
      "\u001b[0;31m---------------------------------------------------------------------------\u001b[0m",
      "\u001b[0;31mDLiteError\u001b[0m                                Traceback (most recent call last)",
      "Cell \u001b[0;32mIn [34], line 1\u001b[0m\n\u001b[0;32m----> 1\u001b[0m Entity_method3_2_csv2 \u001b[39m=\u001b[39m dlite\u001b[39m.\u001b[39;49mInstance\u001b[39m.\u001b[39;49mfrom_url(\u001b[39mf\u001b[39;49m\u001b[39m'\u001b[39;49m\u001b[39mcsv://data.csv\u001b[39;49m\u001b[39m'\u001b[39;49m,metaid\u001b[39m=\u001b[39;49me\u001b[39m.\u001b[39;49muuid)\n",
      "File \u001b[0;32m~/.envs/dlite/lib/python3.8/site-packages/dlite/dlite.py:1229\u001b[0m, in \u001b[0;36mInstance.from_url\u001b[0;34m(cls, url, metaid)\u001b[0m\n\u001b[1;32m   1222\u001b[0m \u001b[39m@classmethod\u001b[39m\n\u001b[1;32m   1223\u001b[0m \u001b[39mdef\u001b[39;00m \u001b[39mfrom_url\u001b[39m(\u001b[39mcls\u001b[39m, url, metaid\u001b[39m=\u001b[39m\u001b[39mNone\u001b[39;00m):\n\u001b[1;32m   1224\u001b[0m \u001b[39m    \u001b[39m\u001b[39m\"\"\"Load the instance from `url`.  The URL should be of the form\u001b[39;00m\n\u001b[1;32m   1225\u001b[0m \u001b[39m    ``driver://location?options#id``.\u001b[39;00m\n\u001b[1;32m   1226\u001b[0m \u001b[39m    If `metaid` is provided, the instance is tried mapped to this\u001b[39;00m\n\u001b[1;32m   1227\u001b[0m \u001b[39m    metadata before it is returned.\u001b[39;00m\n\u001b[1;32m   1228\u001b[0m \u001b[39m    \"\"\"\u001b[39;00m\n\u001b[0;32m-> 1229\u001b[0m     \u001b[39mreturn\u001b[39;00m Instance(\n\u001b[1;32m   1230\u001b[0m         url\u001b[39m=\u001b[39;49murl, metaid\u001b[39m=\u001b[39;49mmetaid,\n\u001b[1;32m   1231\u001b[0m         dims\u001b[39m=\u001b[39;49m(), dimensions\u001b[39m=\u001b[39;49m(), properties\u001b[39m=\u001b[39;49m()  \u001b[39m# arrays\u001b[39;49;00m\n\u001b[1;32m   1232\u001b[0m     )\n",
      "File \u001b[0;32m~/.envs/dlite/lib/python3.8/site-packages/dlite/dlite.py:1164\u001b[0m, in \u001b[0;36mInstance.__init__\u001b[0;34m(self, *args, **kwargs)\u001b[0m\n\u001b[1;32m   1161\u001b[0m     \u001b[39mraise\u001b[39;00m DLiteError(\u001b[39mf\u001b[39m\u001b[39m\"\u001b[39m\u001b[39minvalid dlite.Instance\u001b[39m\u001b[39m\"\u001b[39m)\n\u001b[1;32m   1163\u001b[0m dlite\u001b[39m.\u001b[39merrclr()\n\u001b[0;32m-> 1164\u001b[0m _dlite\u001b[39m.\u001b[39mInstance_swiginit(\u001b[39mself\u001b[39m, _dlite\u001b[39m.\u001b[39;49mnew_Instance(\u001b[39m*\u001b[39;49margs, \u001b[39m*\u001b[39;49m\u001b[39m*\u001b[39;49mkwargs))\n\u001b[1;32m   1166\u001b[0m \u001b[39mif\u001b[39;00m \u001b[39mnot\u001b[39;00m \u001b[39mhasattr\u001b[39m(\u001b[39mself\u001b[39m, \u001b[39m'\u001b[39m\u001b[39mthis\u001b[39m\u001b[39m'\u001b[39m) \u001b[39mor\u001b[39;00m \u001b[39mnot\u001b[39;00m \u001b[39mgetattr\u001b[39m(\u001b[39mself\u001b[39m, \u001b[39m'\u001b[39m\u001b[39mthis\u001b[39m\u001b[39m'\u001b[39m):\n\u001b[1;32m   1167\u001b[0m     \u001b[39mraise\u001b[39;00m DLiteError(\u001b[39mf\u001b[39m\u001b[39m\"\u001b[39m\u001b[39mcannot initiate dlite.Instance\u001b[39m\u001b[39m\"\u001b[39m)\n",
      "\u001b[0;31mDLiteError\u001b[0m: Error 1: ebd1ca18-d457-4ef0-b99c-7dd1ebdcdada has 5 dimensions"
     ]
    }
   ],
   "source": [
    "Entity_method3_2_csv2 = dlite.Instance.from_url(f'csv://data.csv',metaid=e.uuid)"
   ]
  },
  {
   "cell_type": "code",
   "execution_count": 25,
   "metadata": {},
   "outputs": [],
   "source": [
    "Entity_method3_2_csv = dlite.Instance.from_url(f'csv://data.csv')"
   ]
  },
  {
   "cell_type": "code",
   "execution_count": 27,
   "metadata": {},
   "outputs": [
    {
     "name": "stdout",
     "output_type": "stream",
     "text": [
      "{\n",
      "  \"uuid\": \"9a5fd68e-0c7a-4f38-bd6a-a77342639341\",\n",
      "  \"meta\": \"http://onto-ns.com/meta/1.0/generated_from_csv_a4d2c1e71d162a27d725c9efea96d0e379e74f77390717a182f41fa2e723c9b6\",\n",
      "  \"dimensions\": {\n",
      "    \"rows\": 5\n",
      "  },\n",
      "  \"properties\": {\n",
      "    \"Unnamed:_0\": [\n",
      "      0,\n",
      "      1,\n",
      "      2,\n",
      "      3,\n",
      "      4\n",
      "    ],\n",
      "    \"time\": [\n",
      "      NaN,\n",
      "      NaN,\n",
      "      NaN,\n",
      "      NaN,\n",
      "      NaN\n",
      "    ],\n",
      "    \"MPP_MS04\": [\n",
      "      38.182,\n",
      "      37.029,\n",
      "      37.387,\n",
      "      39.107,\n",
      "      40.179\n",
      "    ],\n",
      "    \"MPP_MS05\": [\n",
      "      42.598,\n",
      "      40.804,\n",
      "      40.428,\n",
      "      41.764,\n",
      "      43.074\n",
      "    ],\n",
      "    \"MPP_MS06\": [\n",
      "      37.89,\n",
      "      36.114,\n",
      "      35.729,\n",
      "      36.945,\n",
      "      38.184\n",
      "    ],\n",
      "    \"MPP_MS07\": [\n",
      "      32.873,\n",
      "      31.865,\n",
      "      30.95,\n",
      "      30.509,\n",
      "      30.796\n",
      "    ],\n",
      "    \"MPP_MS08\": [\n",
      "      22.31,\n",
      "      21.063,\n",
      "      19.801,\n",
      "      19.247,\n",
      "      19.662\n",
      "    ]\n",
      "  }\n",
      "}\n"
     ]
    }
   ],
   "source": [
    "print(Entity_method3_2_csv)"
   ]
  },
  {
   "cell_type": "code",
   "execution_count": null,
   "metadata": {},
   "outputs": [],
   "source": []
  }
 ],
 "metadata": {
  "kernelspec": {
   "display_name": "Python 3.8.10 ('dlite')",
   "language": "python",
   "name": "python3"
  },
  "language_info": {
   "codemirror_mode": {
    "name": "ipython",
    "version": 3
   },
   "file_extension": ".py",
   "mimetype": "text/x-python",
   "name": "python",
   "nbconvert_exporter": "python",
   "pygments_lexer": "ipython3",
   "version": "3.8.10"
  },
  "orig_nbformat": 4,
  "vscode": {
   "interpreter": {
    "hash": "a591f1f429178838d62e081079ba7d4381fb9fa5e3b6c763ceb2b9189154c08b"
   }
  }
 },
 "nbformat": 4,
 "nbformat_minor": 2
}
