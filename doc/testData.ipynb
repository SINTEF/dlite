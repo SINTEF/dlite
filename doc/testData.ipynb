{
 "cells": [
  {
   "cell_type": "code",
   "execution_count": null,
   "metadata": {},
   "outputs": [],
   "source": [
    "import pandas as pd\n",
    "import numpy as np\n",
    "import json\n",
    "import dlite"
   ]
  },
  {
   "cell_type": "code",
<<<<<<< HEAD
   "execution_count": 62,
=======
   "execution_count": null,
>>>>>>> 2a756fe8941aec5d2f1372f3bfa1605f33169218
   "metadata": {},
   "outputs": [],
   "source": [
    "df = pd.read_csv('../../test/test_oktober.csv', encoding = \"ISO-8859-1\", sep=';', parse_dates=['Timestamp'], header = 0).iloc[::6]"
   ]
  },
  {
   "cell_type": "code",
<<<<<<< HEAD
   "execution_count": 82,
   "metadata": {},
   "outputs": [
    {
     "data": {
      "text/html": [
       "<div>\n",
       "<style scoped>\n",
       "    .dataframe tbody tr th:only-of-type {\n",
       "        vertical-align: middle;\n",
       "    }\n",
       "\n",
       "    .dataframe tbody tr th {\n",
       "        vertical-align: top;\n",
       "    }\n",
       "\n",
       "    .dataframe thead th {\n",
       "        text-align: right;\n",
       "    }\n",
       "</style>\n",
       "<table border=\"1\" class=\"dataframe\">\n",
       "  <thead>\n",
       "    <tr style=\"text-align: right;\">\n",
       "      <th></th>\n",
       "      <th>time</th>\n",
       "      <th>Impp_MS04</th>\n",
       "      <th>isc_MS04</th>\n",
       "      <th>MPP_MS04</th>\n",
       "      <th>vmpp_MS04</th>\n",
       "      <th>voc_MS04</th>\n",
       "    </tr>\n",
       "  </thead>\n",
       "  <tbody>\n",
       "    <tr>\n",
       "      <th>0</th>\n",
       "      <td>2022-08-13 12:13:00</td>\n",
       "      <td>1.188</td>\n",
       "      <td>1.250</td>\n",
       "      <td>38.182</td>\n",
       "      <td>32.14</td>\n",
       "      <td>37.33</td>\n",
       "    </tr>\n",
       "    <tr>\n",
       "      <th>1</th>\n",
       "      <td>2022-08-13 12:14:00</td>\n",
       "      <td>1.155</td>\n",
       "      <td>1.213</td>\n",
       "      <td>37.029</td>\n",
       "      <td>32.06</td>\n",
       "      <td>37.29</td>\n",
       "    </tr>\n",
       "    <tr>\n",
       "      <th>2</th>\n",
       "      <td>2022-08-13 12:15:00</td>\n",
       "      <td>1.160</td>\n",
       "      <td>1.224</td>\n",
       "      <td>37.387</td>\n",
       "      <td>32.23</td>\n",
       "      <td>37.32</td>\n",
       "    </tr>\n",
       "    <tr>\n",
       "      <th>3</th>\n",
       "      <td>2022-08-13 12:16:00</td>\n",
       "      <td>1.213</td>\n",
       "      <td>1.277</td>\n",
       "      <td>39.107</td>\n",
       "      <td>32.24</td>\n",
       "      <td>37.40</td>\n",
       "    </tr>\n",
       "    <tr>\n",
       "      <th>4</th>\n",
       "      <td>2022-08-13 12:17:00</td>\n",
       "      <td>1.242</td>\n",
       "      <td>1.309</td>\n",
       "      <td>40.179</td>\n",
       "      <td>32.35</td>\n",
       "      <td>37.47</td>\n",
       "    </tr>\n",
       "  </tbody>\n",
       "</table>\n",
       "</div>"
      ],
      "text/plain": [
       "                 time  Impp_MS04  isc_MS04  MPP_MS04  vmpp_MS04  voc_MS04\n",
       "0 2022-08-13 12:13:00      1.188     1.250    38.182      32.14     37.33\n",
       "1 2022-08-13 12:14:00      1.155     1.213    37.029      32.06     37.29\n",
       "2 2022-08-13 12:15:00      1.160     1.224    37.387      32.23     37.32\n",
       "3 2022-08-13 12:16:00      1.213     1.277    39.107      32.24     37.40\n",
       "4 2022-08-13 12:17:00      1.242     1.309    40.179      32.35     37.47"
      ]
     },
     "execution_count": 82,
     "metadata": {},
     "output_type": "execute_result"
    }
   ],
=======
   "execution_count": null,
   "metadata": {},
   "outputs": [],
   "source": [
    "df2=df.iloc[18000:18005,40:45]\n",
    "df2.reset_index(inplace=True)\n",
    "df2.rename(columns={\"MPP \\u00b9 [W] (Alpha Centauri - M3-MS04)\": \"MPP_MS04\",\n",
    "           \"MPP \\u00b9 [W] (Alpha Centauri - M4-MS05)\": \"MPP_MS05\",\n",
    "           \"MPP \\u00b9 [W] (Alpha Centauri - M4-MS06)\": \"MPP_MS06\",\n",
    "           \"MPP \\u00b9 [W] (Alpha Centauri - M1-MS07)\": \"MPP_MS07\",\n",
    "           \"MPP \\u00b9 [W] (Alpha Centauri - M1-MS08)\": \"MPP_MS08\"}, inplace=True)\n",
    "df2 = df2.drop('index',axis=1)\n",
    "df2.insert(0,\"time\",df.iloc[40:45,0])"
   ]
  },
  {
   "cell_type": "code",
   "execution_count": null,
   "metadata": {},
   "outputs": [],
>>>>>>> 2a756fe8941aec5d2f1372f3bfa1605f33169218
   "source": [
    "df2=df.iloc[[18000, 18001, 18002, 18003, 18004], [4,28,40,50,58]]\n",
    "df2.reset_index(inplace=True)\n",
    "# df2=df.loc[\"MPP \\u00b9 [W] (Alpha Centauri - M3-MS04)\",\n",
    "#         \"Impp [A] (Alpha Centauri - M3-MS04)\",\n",
    "#         \"isc [A] (Alpha Centauri - M3-MS04)\",\n",
    "#         \"vmpp [V] (Alpha Centauri - M3-MS04)\",\n",
    "#         \"voc [V] (Alpha Centauri - M3-MS04)\"]\n",
    "#print(df2)\n",
    "#df2.columns\n",
    "df2.rename(columns={\"MPP \\u00b9 [W] (Alpha Centauri - M3-MS04)\": \"MPP_MS04\",\n",
    "           \"Impp [A] (Alpha Centauri - M3-MS04)\": \"Impp_MS04\",\n",
    "           \"isc [A] (Alpha Centauri - M3-MS04)\": \"isc_MS04\",\n",
    "           \"vmpp [V] (Alpha Centauri - M3-MS04)\": \"vmpp_MS04\",\n",
    "           \"voc [V] (Alpha Centauri - M3-MS04)\": \"voc_MS04\"}, inplace=True)\n",
    "df2.insert(0,\"time\",list(df.iloc[18000:18005,0]))\n",
    "df2 = df2.drop('index',axis=1)\n",
    "df2"
   ]
  },
  {
   "cell_type": "code",
   "execution_count": 66,
   "metadata": {},
   "outputs": [],
   "source": [
    "df3=df.iloc[18000:18005,40:45]\n",
    "df3.reset_index(inplace=True)\n",
    "df3.rename(columns={\"MPP \\u00b9 [W] (Alpha Centauri - M3-MS04)\": \"MPP_MS04\",\n",
    "           \"MPP \\u00b9 [W] (Alpha Centauri - M4-MS05)\": \"MPP_MS05\",\n",
    "           \"MPP \\u00b9 [W] (Alpha Centauri - M4-MS06)\": \"MPP_MS06\",\n",
    "           \"MPP \\u00b9 [W] (Alpha Centauri - M1-MS07)\": \"MPP_MS07\",\n",
    "           \"MPP \\u00b9 [W] (Alpha Centauri - M1-MS08)\": \"MPP_MS08\"}, inplace=True)\n",
    "df3 = df3.drop('index',axis=1)\n",
    "df3.insert(0,\"time\",df.iloc[40:45,0])"
   ]
  },
  {
   "cell_type": "code",
<<<<<<< HEAD
   "execution_count": 67,
   "metadata": {},
   "outputs": [
    {
     "data": {
      "text/html": [
       "<div>\n",
       "<style scoped>\n",
       "    .dataframe tbody tr th:only-of-type {\n",
       "        vertical-align: middle;\n",
       "    }\n",
       "\n",
       "    .dataframe tbody tr th {\n",
       "        vertical-align: top;\n",
       "    }\n",
       "\n",
       "    .dataframe thead th {\n",
       "        text-align: right;\n",
       "    }\n",
       "</style>\n",
       "<table border=\"1\" class=\"dataframe\">\n",
       "  <thead>\n",
       "    <tr style=\"text-align: right;\">\n",
       "      <th></th>\n",
       "      <th>time</th>\n",
       "      <th>MPP_MS04</th>\n",
       "      <th>MPP_MS05</th>\n",
       "      <th>MPP_MS06</th>\n",
       "      <th>MPP_MS07</th>\n",
       "      <th>MPP_MS08</th>\n",
       "    </tr>\n",
       "  </thead>\n",
       "  <tbody>\n",
       "    <tr>\n",
       "      <th>0</th>\n",
       "      <td>NaT</td>\n",
       "      <td>38.182</td>\n",
       "      <td>42.598</td>\n",
       "      <td>37.890</td>\n",
       "      <td>32.873</td>\n",
       "      <td>22.310</td>\n",
       "    </tr>\n",
       "    <tr>\n",
       "      <th>1</th>\n",
       "      <td>NaT</td>\n",
       "      <td>37.029</td>\n",
       "      <td>40.804</td>\n",
       "      <td>36.114</td>\n",
       "      <td>31.865</td>\n",
       "      <td>21.063</td>\n",
       "    </tr>\n",
       "    <tr>\n",
       "      <th>2</th>\n",
       "      <td>NaT</td>\n",
       "      <td>37.387</td>\n",
       "      <td>40.428</td>\n",
       "      <td>35.729</td>\n",
       "      <td>30.950</td>\n",
       "      <td>19.801</td>\n",
       "    </tr>\n",
       "    <tr>\n",
       "      <th>3</th>\n",
       "      <td>NaT</td>\n",
       "      <td>39.107</td>\n",
       "      <td>41.764</td>\n",
       "      <td>36.945</td>\n",
       "      <td>30.509</td>\n",
       "      <td>19.247</td>\n",
       "    </tr>\n",
       "    <tr>\n",
       "      <th>4</th>\n",
       "      <td>NaT</td>\n",
       "      <td>40.179</td>\n",
       "      <td>43.074</td>\n",
       "      <td>38.184</td>\n",
       "      <td>30.796</td>\n",
       "      <td>19.662</td>\n",
       "    </tr>\n",
       "  </tbody>\n",
       "</table>\n",
       "</div>"
      ],
      "text/plain": [
       "  time  MPP_MS04  MPP_MS05  MPP_MS06  MPP_MS07  MPP_MS08\n",
       "0  NaT    38.182    42.598    37.890    32.873    22.310\n",
       "1  NaT    37.029    40.804    36.114    31.865    21.063\n",
       "2  NaT    37.387    40.428    35.729    30.950    19.801\n",
       "3  NaT    39.107    41.764    36.945    30.509    19.247\n",
       "4  NaT    40.179    43.074    38.184    30.796    19.662"
      ]
     },
     "execution_count": 67,
     "metadata": {},
     "output_type": "execute_result"
    }
   ],
   "source": [
    "df3"
   ]
  },
  {
   "cell_type": "code",
   "execution_count": 4,
   "metadata": {},
   "outputs": [
    {
     "data": {
      "text/plain": [
       "240   2022-08-01 00:41:00\n",
       "246   2022-08-01 00:42:00\n",
       "252   2022-08-01 00:43:00\n",
       "258   2022-08-01 00:44:00\n",
       "264   2022-08-01 00:45:00\n",
       "Name: Timestamp, dtype: datetime64[ns]"
      ]
     },
     "execution_count": 4,
     "metadata": {},
     "output_type": "execute_result"
    }
   ],
   "source": [
    "df.iloc[40:45,0]"
   ]
  },
  {
   "cell_type": "code",
   "execution_count": 83,
   "metadata": {},
   "outputs": [
    {
     "data": {
      "text/html": [
       "<div>\n",
       "<style scoped>\n",
       "    .dataframe tbody tr th:only-of-type {\n",
       "        vertical-align: middle;\n",
       "    }\n",
       "\n",
       "    .dataframe tbody tr th {\n",
       "        vertical-align: top;\n",
       "    }\n",
       "\n",
       "    .dataframe thead th {\n",
       "        text-align: right;\n",
       "    }\n",
       "</style>\n",
       "<table border=\"1\" class=\"dataframe\">\n",
       "  <thead>\n",
       "    <tr style=\"text-align: right;\">\n",
       "      <th></th>\n",
       "      <th>time</th>\n",
       "      <th>Impp_MS04</th>\n",
       "      <th>isc_MS04</th>\n",
       "      <th>MPP_MS04</th>\n",
       "      <th>vmpp_MS04</th>\n",
       "      <th>voc_MS04</th>\n",
       "    </tr>\n",
       "  </thead>\n",
       "  <tbody>\n",
       "    <tr>\n",
       "      <th>0</th>\n",
       "      <td>2022-08-13 12:13:00</td>\n",
       "      <td>1.188</td>\n",
       "      <td>1.250</td>\n",
       "      <td>38.182</td>\n",
       "      <td>32.14</td>\n",
       "      <td>37.33</td>\n",
       "    </tr>\n",
       "    <tr>\n",
       "      <th>1</th>\n",
       "      <td>2022-08-13 12:14:00</td>\n",
       "      <td>1.155</td>\n",
       "      <td>1.213</td>\n",
       "      <td>37.029</td>\n",
       "      <td>32.06</td>\n",
       "      <td>37.29</td>\n",
       "    </tr>\n",
       "    <tr>\n",
       "      <th>2</th>\n",
       "      <td>2022-08-13 12:15:00</td>\n",
       "      <td>1.160</td>\n",
       "      <td>1.224</td>\n",
       "      <td>37.387</td>\n",
       "      <td>32.23</td>\n",
       "      <td>37.32</td>\n",
       "    </tr>\n",
       "    <tr>\n",
       "      <th>3</th>\n",
       "      <td>2022-08-13 12:16:00</td>\n",
       "      <td>1.213</td>\n",
       "      <td>1.277</td>\n",
       "      <td>39.107</td>\n",
       "      <td>32.24</td>\n",
       "      <td>37.40</td>\n",
       "    </tr>\n",
       "    <tr>\n",
       "      <th>4</th>\n",
       "      <td>2022-08-13 12:17:00</td>\n",
       "      <td>1.242</td>\n",
       "      <td>1.309</td>\n",
       "      <td>40.179</td>\n",
       "      <td>32.35</td>\n",
       "      <td>37.47</td>\n",
       "    </tr>\n",
       "  </tbody>\n",
       "</table>\n",
       "</div>"
      ],
      "text/plain": [
       "                 time  Impp_MS04  isc_MS04  MPP_MS04  vmpp_MS04  voc_MS04\n",
       "0 2022-08-13 12:13:00      1.188     1.250    38.182      32.14     37.33\n",
       "1 2022-08-13 12:14:00      1.155     1.213    37.029      32.06     37.29\n",
       "2 2022-08-13 12:15:00      1.160     1.224    37.387      32.23     37.32\n",
       "3 2022-08-13 12:16:00      1.213     1.277    39.107      32.24     37.40\n",
       "4 2022-08-13 12:17:00      1.242     1.309    40.179      32.35     37.47"
      ]
     },
     "execution_count": 83,
     "metadata": {},
     "output_type": "execute_result"
    }
   ],
=======
   "execution_count": null,
   "metadata": {},
   "outputs": [],
>>>>>>> 2a756fe8941aec5d2f1372f3bfa1605f33169218
   "source": [
    "df2"
   ]
  },
  {
   "cell_type": "code",
<<<<<<< HEAD
   "execution_count": 84,
=======
   "execution_count": null,
>>>>>>> 2a756fe8941aec5d2f1372f3bfa1605f33169218
   "metadata": {},
   "outputs": [],
   "source": [
    "df2.to_csv('data.csv')"
   ]
  },
  {
   "cell_type": "code",
<<<<<<< HEAD
   "execution_count": 79,
=======
   "execution_count": null,
>>>>>>> 2a756fe8941aec5d2f1372f3bfa1605f33169218
   "metadata": {},
   "outputs": [],
   "source": [
    "csv = dlite.Instance.from_url(f'csv://data.csv')"
   ]
  },
  {
   "cell_type": "code",
   "execution_count": null,
   "metadata": {},
<<<<<<< HEAD
   "outputs": [
    {
     "data": {
      "text/plain": [
       "'67cf892b-30fe-401b-af45-3ff2ea356f90'"
      ]
     },
     "execution_count": 8,
     "metadata": {},
     "output_type": "execute_result"
    }
   ],
=======
   "outputs": [],
>>>>>>> 2a756fe8941aec5d2f1372f3bfa1605f33169218
   "source": [
    "csv.uuid"
   ]
  },
  {
   "cell_type": "code",
   "execution_count": null,
   "metadata": {},
   "outputs": [],
   "source": [
    "import dlite"
   ]
  },
  {
   "cell_type": "code",
<<<<<<< HEAD
   "execution_count": 10,
=======
   "execution_count": null,
>>>>>>> 2a756fe8941aec5d2f1372f3bfa1605f33169218
   "metadata": {},
   "outputs": [],
   "source": [
    "Entity_method2_1 = dlite.Instance.from_location('json','myEntity.json')\n",
    "#Entity_method3_1 = dlite.Instance.from_location('json','myEntity_3.json')"
   ]
  },
  {
   "cell_type": "code",
<<<<<<< HEAD
   "execution_count": 11,
=======
   "execution_count": null,
>>>>>>> 2a756fe8941aec5d2f1372f3bfa1605f33169218
   "metadata": {},
   "outputs": [],
   "source": [
    "#Entity_method3_1.uri"
   ]
  },
  {
   "cell_type": "code",
<<<<<<< HEAD
   "execution_count": 12,
=======
   "execution_count": 13,
>>>>>>> 2a756fe8941aec5d2f1372f3bfa1605f33169218
   "metadata": {},
   "outputs": [],
   "source": [
    "dlite.storage_path.append('myEntity.json')\n",
    "#dlite.storage_path.append('myEntity_3.json')"
   ]
  },
  {
   "cell_type": "code",
<<<<<<< HEAD
   "execution_count": 13,
=======
   "execution_count": null,
>>>>>>> 2a756fe8941aec5d2f1372f3bfa1605f33169218
   "metadata": {},
   "outputs": [],
   "source": [
    "Entity_method2_2 = dlite.get_instance(\"http://www.ontotrans.eu/0.1/solarPanelMeasurement_2\")\n",
    "\n",
    "#Entity_method3_2 = dlite.get_instance(\"http://www.ontotrans.eu/0.1/solarPanelMeasurement\")"
   ]
  },
  {
   "cell_type": "code",
   "execution_count": 16,
   "metadata": {},
   "outputs": [
    {
     "name": "stdout",
     "output_type": "stream",
     "text": [
      "http://www.ontotrans.eu/0.1/solarPanelMeasurement_2\n"
     ]
    }
   ],
   "source": [
    "import json\n",
    "f = open('myEntity.json')\n",
    "data = json.load(f)\n",
    "print(data['uri'])"
   ]
  },
  {
   "cell_type": "code",
   "execution_count": null,
   "metadata": {},
   "outputs": [],
   "source": []
  },
  {
   "attachments": {},
   "cell_type": "markdown",
   "metadata": {},
   "source": [
    "## tips på tutorialen: bruk json bibliotek"
   ]
  },
  {
   "attachments": {},
   "cell_type": "markdown",
   "metadata": {},
   "source": [
    "## jesper hjælp"
   ]
  },
  {
   "attachments": {},
   "cell_type": "markdown",
   "metadata": {},
   "source": [
    "what if 2 "
   ]
  },
  {
   "cell_type": "code",
<<<<<<< HEAD
   "execution_count": 14,
=======
   "execution_count": null,
>>>>>>> 2a756fe8941aec5d2f1372f3bfa1605f33169218
   "metadata": {},
   "outputs": [],
   "source": [
    "e = Entity_method2_2(dims=[5])"
   ]
  },
  {
   "cell_type": "code",
<<<<<<< HEAD
   "execution_count": 15,
   "metadata": {},
   "outputs": [
    {
     "name": "stdout",
     "output_type": "stream",
     "text": [
      "{\n",
      "  \"uuid\": \"32bd21ef-8f6a-449e-a304-712b14d75329\",\n",
      "  \"meta\": \"http://www.ontotrans.eu/0.1/solarPanelMeasurement_2\",\n",
      "  \"dimensions\": {\n",
      "    \"N\": 5\n",
      "  },\n",
      "  \"properties\": {\n",
      "    \"t\": [\n",
      "      null,\n",
      "      null,\n",
      "      null,\n",
      "      null,\n",
      "      null\n",
      "    ],\n",
      "    \"MPP\": [\n",
      "      0.0,\n",
      "      0.0,\n",
      "      0.0,\n",
      "      0.0,\n",
      "      0.0\n",
      "    ]\n",
      "  }\n",
      "}\n"
     ]
    }
   ],
=======
   "execution_count": null,
   "metadata": {},
   "outputs": [],
   "source": [
    "e2 = Entity_method2_2([1])"
   ]
  },
  {
   "cell_type": "code",
   "execution_count": null,
   "metadata": {},
   "outputs": [],
   "source": [
    "print(e2)"
   ]
  },
  {
   "cell_type": "code",
   "execution_count": null,
   "metadata": {},
   "outputs": [],
   "source": [
    "liste = [1,2,3,4,5]\n",
    "e2.properties['t']=np.append(e2.properties['t'],liste,0)"
   ]
  },
  {
   "cell_type": "code",
   "execution_count": null,
   "metadata": {},
   "outputs": [],
   "source": [
    "e2.properties['t']"
   ]
  },
  {
   "cell_type": "code",
   "execution_count": null,
   "metadata": {},
   "outputs": [],
   "source": [
    "print(len(e2.properties['t']))"
   ]
  },
  {
   "cell_type": "code",
   "execution_count": null,
   "metadata": {},
   "outputs": [],
   "source": [
    "print(e2.meta.uri)"
   ]
  },
  {
   "cell_type": "code",
   "execution_count": null,
   "metadata": {},
   "outputs": [],
   "source": [
    "# Entity_method2_2_csv2_2 = dlite.Instance.from_url(f'csv://data.csv',e2.uuid)"
   ]
  },
  {
   "cell_type": "code",
   "execution_count": null,
   "metadata": {},
   "outputs": [],
   "source": [
    "e2.uuid == e2.meta.uuid"
   ]
  },
  {
   "cell_type": "code",
   "execution_count": null,
   "metadata": {},
   "outputs": [],
>>>>>>> 2a756fe8941aec5d2f1372f3bfa1605f33169218
   "source": [
    "print(e)"
   ]
  },
  {
   "cell_type": "code",
<<<<<<< HEAD
   "execution_count": 16,
   "metadata": {},
   "outputs": [
    {
     "name": "stdout",
     "output_type": "stream",
     "text": [
      "{\n",
      "  \"uuid\": \"e860e8d6-7eff-5437-aaf7-4bec363cb680\",\n",
      "  \"uri\": \"http://www.ontotrans.eu/0.1/solarPanelMeasurement_2\",\n",
      "  \"meta\": \"http://onto-ns.com/meta/0.3/EntitySchema\",\n",
      "  \"description\": \"Measurement data from one solar panel.\",\n",
      "  \"dimensions\": {\n",
      "    \"N\": \"Number of rows.\"\n",
      "  },\n",
      "  \"properties\": {\n",
      "    \"t\": {\n",
      "      \"type\": \"string\",\n",
      "      \"shape\": [\n",
      "        \"N\"\n",
      "      ],\n",
      "      \"unit\": \"ns\",\n",
      "      \"description\": \"Time\"\n",
      "    },\n",
      "    \"MPP\": {\n",
      "      \"type\": \"float64\",\n",
      "      \"shape\": [\n",
      "        \"N\"\n",
      "      ],\n",
      "      \"unit\": \"W\",\n",
      "      \"description\": \"Maximum Power\"\n",
      "    }\n",
      "  }\n",
      "}\n"
     ]
    }
   ],
   "source": [
    "e2 = Entity_method2_2\n",
    "print(e2)\n"
   ]
  },
  {
   "cell_type": "code",
=======
>>>>>>> 2a756fe8941aec5d2f1372f3bfa1605f33169218
   "execution_count": null,
   "metadata": {},
   "outputs": [],
   "source": [
    "df_try = pd.read_csv('data.csv', sep=',', header = 0)\n",
    "\n",
    "inst = e2({\"N\": len(df_try)})\n"
   ]
  },
  {
   "cell_type": "code",
<<<<<<< HEAD
   "execution_count": 17,
   "metadata": {},
   "outputs": [
    {
     "name": "stdout",
     "output_type": "stream",
     "text": [
      "5\n",
      "{\n",
      "  \"uuid\": \"73ce9ce2-a69d-4f68-be83-4c8e54d9bf22\",\n",
      "  \"meta\": \"http://www.ontotrans.eu/0.1/solarPanelMeasurement_2\",\n",
      "  \"dimensions\": {\n",
      "    \"N\": 5\n",
      "  },\n",
      "  \"properties\": {\n",
      "    \"t\": [\n",
      "      \"2022-08-01 00:41:00\",\n",
      "      \"2022-08-01 00:42:00\",\n",
      "      \"2022-08-01 00:43:00\",\n",
      "      \"2022-08-01 00:44:00\",\n",
      "      \"2022-08-01 00:45:00\"\n",
      "    ],\n",
      "    \"MPP\": [\n",
      "      38.182,\n",
      "      37.029,\n",
      "      37.387,\n",
      "      39.107,\n",
      "      40.179\n",
      "    ]\n",
      "  }\n",
      "}\n"
     ]
    }
   ],
   "source": [
    "df_mod = pd.read_csv('data_modified.csv', sep=',', header = 0)\n",
    "print(len(df_mod))\n",
    "\n",
    "inst = e2({\"N\": len(df_mod)})\n",
    "inst.t, inst.MPP = df_mod[\"time\"], df_mod[\"MPP_MS04\"]\n",
    "\n",
    "mapping = {\n",
    "    \"t\": \"time\",\n",
    "    \"MPP\": \"MPP_MS04\",\n",
    "}\n",
    "print(inst)\n",
    "\n",
    "for key in mapping:\n",
    "    inst[key] = df_mod[mapping[key]]\n",
    "#df_mod.columns"
   ]
  },
  {
   "cell_type": "code",
   "execution_count": 18,
   "metadata": {},
   "outputs": [],
   "source": [
    "e.properties[\"t\"] = df2.iloc[:,0]\n"
   ]
  },
  {
   "cell_type": "code",
   "execution_count": 19,
   "metadata": {},
   "outputs": [
    {
     "data": {
      "text/plain": [
       "0   2022-08-01 00:41:00\n",
       "1   2022-08-01 00:42:00\n",
       "2   2022-08-01 00:43:00\n",
       "3   2022-08-01 00:44:00\n",
       "4   2022-08-01 00:45:00\n",
       "Name: time, dtype: datetime64[ns]"
      ]
     },
     "execution_count": 19,
     "metadata": {},
     "output_type": "execute_result"
    }
   ],
=======
   "execution_count": null,
   "metadata": {},
   "outputs": [],
>>>>>>> 2a756fe8941aec5d2f1372f3bfa1605f33169218
   "source": [
    "df2.iloc[:,0]"
   ]
  },
  {
   "cell_type": "code",
<<<<<<< HEAD
   "execution_count": 20,
=======
   "execution_count": null,
>>>>>>> 2a756fe8941aec5d2f1372f3bfa1605f33169218
   "metadata": {},
   "outputs": [],
   "source": [
    "test=[1,2,3,4,5]"
   ]
  },
  {
   "cell_type": "code",
<<<<<<< HEAD
   "execution_count": 21,
=======
   "execution_count": null,
>>>>>>> 2a756fe8941aec5d2f1372f3bfa1605f33169218
   "metadata": {},
   "outputs": [
    {
     "name": "stdout",
     "output_type": "stream",
     "text": [
      "{'t': array([None, None, None, None, None], dtype=object), 'MPP': array([0., 0., 0., 0., 0.])}\n"
     ]
    }
   ],
   "source": [
    "for i in range(len(test)):\n",
    "    e.properties[\"t\"][i] = test[i]\n",
    "#e.properties[\"t\"] = np.array([5,5,5,5,5])\n",
    "print(e.properties)"
   ]
  },
  {
   "cell_type": "code",
<<<<<<< HEAD
   "execution_count": 22,
=======
   "execution_count": null,
   "metadata": {},
   "outputs": [],
   "source": [
    "print(e.properties[\"t\"])"
   ]
  },
  {
   "cell_type": "code",
   "execution_count": null,
   "metadata": {},
   "outputs": [],
   "source": [
    "Entity_method3_2_csv2 = dlite.Instance.from_url(f'csv://data.csv','e860e8d6-7eff-5437-aaf7-4bec363cb680')"
   ]
  },
  {
   "cell_type": "code",
   "execution_count": null,
   "metadata": {},
   "outputs": [],
   "source": [
    "Entity_method3_2_csv = dlite.Instance.from_url(f'csv://data.csv')"
   ]
  },
  {
   "cell_type": "code",
   "execution_count": null,
   "metadata": {},
   "outputs": [],
   "source": [
    "print(Entity_method3_2_csv)"
   ]
  },
  {
   "cell_type": "code",
   "execution_count": null,
   "metadata": {},
   "outputs": [],
   "source": [
    "Entity_Jesper = dlite.Instance.from_url(f'csv://data.csv?meta=http://www.ontotrans.eu/0.1/solarPanelMeasurement_Jesp')"
   ]
  },
  {
   "cell_type": "code",
   "execution_count": null,
   "metadata": {},
   "outputs": [],
   "source": []
  },
  {
   "cell_type": "code",
   "execution_count": null,
   "metadata": {},
   "outputs": [],
   "source": [
    "print(Entity_Jesper.properties)"
   ]
  },
  {
   "cell_type": "code",
   "execution_count": 1,
   "metadata": {},
   "outputs": [],
   "source": [
    "import dlite"
   ]
  },
  {
   "cell_type": "code",
   "execution_count": 2,
   "metadata": {},
   "outputs": [],
   "source": [
    "newEntJesp = dlite.Instance.from_location('json','myEntityJesper.json')"
   ]
  },
  {
   "cell_type": "code",
   "execution_count": 11,
>>>>>>> 2a756fe8941aec5d2f1372f3bfa1605f33169218
   "metadata": {},
   "outputs": [
    {
     "data": {
      "text/plain": [
       "'http://www.ontotrans.eu/0.1/solarPanelMeasurement_Jesp2'"
      ]
     },
     "execution_count": 11,
     "metadata": {},
     "output_type": "execute_result"
    }
   ],
   "source": [
    "newEntJesp.uri"
   ]
  },
  {
   "cell_type": "code",
   "execution_count": 4,
   "metadata": {},
   "outputs": [
    {
     "name": "stderr",
     "output_type": "stream",
     "text": [
<<<<<<< HEAD
      "[None None None None None]\n"
=======
      "csv.py:135: UserWarning: csv option infer is true, but explicit instance id \"http://www.ontotrans.eu/0.1/solarPanelMeasurement_Jesp2\" already exists\n",
      "  if extrasaction.lower() not in (\"raise\", \"ignore\"):\n"
>>>>>>> 2a756fe8941aec5d2f1372f3bfa1605f33169218
     ]
    }
   ],
   "source": [
    "new_Inst_Jesper = dlite.Instance.from_url(f'csv://data_modified.csv?meta=http://www.ontotrans.eu/0.1/solarPanelMeasurement_Jesp2')"
   ]
  },
  {
   "cell_type": "code",
   "execution_count": null,
   "metadata": {},
   "outputs": [],
   "source": [
    "print(new_Inst_Jesper)"
   ]
  },
  {
   "cell_type": "code",
<<<<<<< HEAD
   "execution_count": 23,
=======
   "execution_count": 12,
>>>>>>> 2a756fe8941aec5d2f1372f3bfa1605f33169218
   "metadata": {},
   "outputs": [
    {
     "name": "stdout",
     "output_type": "stream",
     "text": [
<<<<<<< HEAD
      "{\n",
      "  \"uuid\": \"e860e8d6-7eff-5437-aaf7-4bec363cb680\",\n",
      "  \"uri\": \"http://www.ontotrans.eu/0.1/solarPanelMeasurement_2\",\n",
      "  \"meta\": \"http://onto-ns.com/meta/0.3/EntitySchema\",\n",
      "  \"description\": \"Measurement data from one solar panel.\",\n",
      "  \"dimensions\": {\n",
      "    \"N\": \"Number of rows.\"\n",
      "  },\n",
      "  \"properties\": {\n",
      "    \"t\": {\n",
      "      \"type\": \"string\",\n",
      "      \"shape\": [\n",
      "        \"N\"\n",
      "      ],\n",
      "      \"unit\": \"ns\",\n",
      "      \"description\": \"Time\"\n",
      "    },\n",
      "    \"MPP\": {\n",
      "      \"type\": \"float64\",\n",
      "      \"shape\": [\n",
      "        \"N\"\n",
      "      ],\n",
      "      \"unit\": \"W\",\n",
      "      \"description\": \"Maximum Power\"\n",
      "    }\n",
      "  }\n",
      "}\n"
     ]
    }
   ],
   "source": [
    "print(e.meta)"
   ]
  },
  {
   "cell_type": "code",
   "execution_count": 24,
   "metadata": {},
   "outputs": [
    {
     "name": "stdout",
     "output_type": "stream",
     "text": [
      "http://www.ontotrans.eu/0.1/solarPanelMeasurement_2\n",
      "{\n",
      "  \"uuid\": \"d36c500c-5596-4ce4-83be-361f5b16c4dc\",\n",
      "  \"meta\": \"http://www.ontotrans.eu/0.1/solarPanelMeasurement_2\",\n",
      "  \"dimensions\": {\n",
      "    \"N\": 5\n",
      "  },\n",
      "  \"properties\": {\n",
      "    \"t\": [\n",
      "      \"2022-08-01 00:41:00\",\n",
      "      \"2022-08-01 00:42:00\",\n",
      "      \"2022-08-01 00:43:00\",\n",
      "      \"2022-08-01 00:44:00\",\n",
      "      \"2022-08-01 00:45:00\"\n",
      "    ],\n",
      "    \"MPP\": [\n",
      "      38.182,\n",
      "      37.029,\n",
      "      37.387,\n",
      "      39.107,\n",
      "      40.179\n",
      "    ]\n",
      "  }\n",
      "}\n",
      "\n"
     ]
    },
    {
     "name": "stderr",
     "output_type": "stream",
     "text": [
      "csv.py:135: UserWarning: csv option infer is true, but explicit instance id \"http://www.ontotrans.eu/0.1/solarPanelMeasurement_2\" already exists\n",
      "  if extrasaction.lower() not in (\"raise\", \"ignore\"):\n"
     ]
    }
   ],
   "source": [
    "print(e.meta.uri)\n",
    "#Entity_method3_2_csv2 = dlite.Instance.from_url(f'csv://data_modified.csv', metaid=e.uuid)\n",
    "Entity_jespers_way = dlite.Instance.from_url(f'csv://data_modified.csv?meta=http://www.ontotrans.eu/0.1/solarPanelMeasurement_2')\n",
    "Entity_jespers_way_2 = dlite.Instance.from_location('csv', location='data_modified.csv', options='meta=http://www.ontotrans.eu/0.1/solarPanelMeasurement_2;infer=False')\n",
    "\n",
    "\n",
    "print(Entity_jespers_way_2)\n",
    "\n",
    "#try2 = dlite.Instance.from_url(f'csv://data_modified.csv')\n",
    "print()\n",
    "#print(try2)"
   ]
  },
  {
   "cell_type": "code",
   "execution_count": 25,
   "metadata": {},
   "outputs": [
    {
     "ename": "DLiteError",
     "evalue": "no such instance: http://onto-ns.com/meta/1.0/generated_from_csv_13aec9fe28af8810d01d052b1f06d3fcc02e2ec5f8c5b5e7bce5e87ea65ef8d3",
     "output_type": "error",
     "traceback": [
      "\u001b[0;31m---------------------------------------------------------------------------\u001b[0m",
      "\u001b[0;31mDLiteError\u001b[0m                                Traceback (most recent call last)",
      "Cell \u001b[0;32mIn [25], line 1\u001b[0m\n\u001b[0;32m----> 1\u001b[0m inst \u001b[39m=\u001b[39m dlite\u001b[39m.\u001b[39;49mget_instance(\u001b[39m\"\u001b[39;49m\u001b[39mhttp://onto-ns.com/meta/1.0/generated_from_csv_13aec9fe28af8810d01d052b1f06d3fcc02e2ec5f8c5b5e7bce5e87ea65ef8d3\u001b[39;49m\u001b[39m\"\u001b[39;49m)\n\u001b[1;32m      2\u001b[0m \u001b[39mprint\u001b[39m(inst)\n",
      "File \u001b[0;32m~/.virtualenvs/DLite/lib/python3.9/site-packages/dlite/dlite.py:1512\u001b[0m, in \u001b[0;36mget_instance\u001b[0;34m(id, metaid, check_storages)\u001b[0m\n\u001b[1;32m   1509\u001b[0m     inst \u001b[39m=\u001b[39m _dlite\u001b[39m.\u001b[39mget_instance(\u001b[39mid\u001b[39m, metaid, check_storages)\n\u001b[1;32m   1511\u001b[0m \u001b[39mif\u001b[39;00m inst \u001b[39mis\u001b[39;00m \u001b[39mNone\u001b[39;00m:\n\u001b[0;32m-> 1512\u001b[0m     \u001b[39mraise\u001b[39;00m DLiteError(\u001b[39mf\u001b[39m\u001b[39m\"\u001b[39m\u001b[39mno such instance: \u001b[39m\u001b[39m{\u001b[39;00m\u001b[39mid\u001b[39m\u001b[39m}\u001b[39;00m\u001b[39m\"\u001b[39m)\n\u001b[1;32m   1513\u001b[0m \u001b[39melif\u001b[39;00m inst\u001b[39m.\u001b[39mis_meta:\n\u001b[1;32m   1514\u001b[0m     inst\u001b[39m.\u001b[39m\u001b[39m__class__\u001b[39m \u001b[39m=\u001b[39m Metadata\n",
      "\u001b[0;31mDLiteError\u001b[0m: no such instance: http://onto-ns.com/meta/1.0/generated_from_csv_13aec9fe28af8810d01d052b1f06d3fcc02e2ec5f8c5b5e7bce5e87ea65ef8d3"
=======
      "csv.py:135: UserWarning: csv option infer is true, but explicit instance id \"http://www.ontotrans.eu/0.1/solarPanelMeasurement_Jesp2\" already exists\n",
      "  if extrasaction.lower() not in (\"raise\", \"ignore\"):\n"
>>>>>>> 2a756fe8941aec5d2f1372f3bfa1605f33169218
     ]
    }
   ],
   "source": [
<<<<<<< HEAD
    "inst = dlite.get_instance(\"http://onto-ns.com/meta/1.0/generated_from_csv_13aec9fe28af8810d01d052b1f06d3fcc02e2ec5f8c5b5e7bce5e87ea65ef8d3\")\n",
    "print(inst)"
=======
    "new_Inst_Jesper4563 = dlite.Instance.from_url(f'csv://data_modified.csv'+'?meta='+newEntJesp.uri)"
>>>>>>> 2a756fe8941aec5d2f1372f3bfa1605f33169218
   ]
  },
  {
   "cell_type": "code",
   "execution_count": null,
<<<<<<< HEAD
   "metadata": {},
   "outputs": [],
   "source": [
    "pandas_opts=\"usecols=[1,2]\""
   ]
  },
  {
   "cell_type": "code",
   "execution_count": null,
=======
>>>>>>> 2a756fe8941aec5d2f1372f3bfa1605f33169218
   "metadata": {},
   "outputs": [],
   "source": [
    "import json"
   ]
  },
  {
   "cell_type": "code",
   "execution_count": 17,
   "metadata": {},
   "outputs": [],
   "source": [
    "import dlite"
   ]
  },
  {
   "cell_type": "code",
<<<<<<< HEAD
   "execution_count": null,
   "metadata": {},
   "outputs": [
    {
     "name": "stdout",
     "output_type": "stream",
     "text": [
      "{\n",
      "  \"uuid\": \"f5442383-b471-4f04-bcdf-be6daff2b123\",\n",
      "  \"meta\": \"http://onto-ns.com/meta/1.0/generated_from_csv_a4d2c1e71d162a27d725c9efea96d0e379e74f77390717a182f41fa2e723c9b6\",\n",
      "  \"dimensions\": {\n",
      "    \"rows\": 5\n",
      "  },\n",
      "  \"properties\": {\n",
      "    \"Unnamed:_0\": [\n",
      "      0,\n",
      "      1,\n",
      "      2,\n",
      "      3,\n",
      "      4\n",
      "    ],\n",
      "    \"time\": [\n",
      "      NaN,\n",
      "      NaN,\n",
      "      NaN,\n",
      "      NaN,\n",
      "      NaN\n",
      "    ],\n",
      "    \"MPP_MS04\": [\n",
      "      38.182,\n",
      "      37.029,\n",
      "      37.387,\n",
      "      39.107,\n",
      "      40.179\n",
      "    ],\n",
      "    \"MPP_MS05\": [\n",
      "      42.598,\n",
      "      40.804,\n",
      "      40.428,\n",
      "      41.764,\n",
      "      43.074\n",
      "    ],\n",
      "    \"MPP_MS06\": [\n",
      "      37.89,\n",
      "      36.114,\n",
      "      35.729,\n",
      "      36.945,\n",
      "      38.184\n",
      "    ],\n",
      "    \"MPP_MS07\": [\n",
      "      32.873,\n",
      "      31.865,\n",
      "      30.95,\n",
      "      30.509,\n",
      "      30.796\n",
      "    ],\n",
      "    \"MPP_MS08\": [\n",
      "      22.31,\n",
      "      21.063,\n",
      "      19.801,\n",
      "      19.247,\n",
      "      19.662\n",
      "    ]\n",
      "  }\n",
      "}\n"
=======
   "execution_count": 19,
   "metadata": {},
   "outputs": [
    {
     "ename": "AttributeError",
     "evalue": "'FUPath' object has no attribute '__annotations__'",
     "output_type": "error",
     "traceback": [
      "\u001b[0;31m---------------------------------------------------------------------------\u001b[0m",
      "\u001b[0;31mAttributeError\u001b[0m                            Traceback (most recent call last)",
      "Cell \u001b[0;32mIn [19], line 1\u001b[0m\n\u001b[0;32m----> 1\u001b[0m \u001b[39mprint\u001b[39m(dlite\u001b[39m.\u001b[39;49mstorage_path\u001b[39m.\u001b[39;49m\u001b[39m__annotations__\u001b[39;49m)\n",
      "\u001b[0;31mAttributeError\u001b[0m: 'FUPath' object has no attribute '__annotations__'"
>>>>>>> 2a756fe8941aec5d2f1372f3bfa1605f33169218
     ]
    }
   ],
   "source": [
    "print(dlite.storage_path)"
   ]
  },
  {
   "cell_type": "code",
   "execution_count": 3,
   "metadata": {},
   "outputs": [
    {
     "name": "stdout",
     "output_type": "stream",
     "text": [
      "http://www.ontotrans.eu/0.1/solarPanelMeasurement\n",
      "5\n",
      "{\n",
      "  \"uuid\": \"d0972ed6-ae2c-4677-990a-ac4fd517351c\",\n",
      "  \"meta\": \"http://www.ontotrans.eu/0.1/solarPanelMeasurement\",\n",
      "  \"dimensions\": {\n",
      "    \"N\": 5\n",
      "  },\n",
      "  \"properties\": {\n",
      "    \"t\": [\n",
      "      null,\n",
      "      null,\n",
      "      null,\n",
      "      null,\n",
      "      null\n",
      "    ],\n",
      "    \"MPP\": [\n",
      "      0.0,\n",
      "      0.0,\n",
      "      0.0,\n",
      "      0.0,\n",
      "      0.0\n",
      "    ],\n",
      "    \"impp\": [\n",
      "      0.0,\n",
      "      0.0,\n",
      "      0.0,\n",
      "      0.0,\n",
      "      0.0\n",
      "    ],\n",
      "    \"isc\": [\n",
      "      0.0,\n",
      "      0.0,\n",
      "      0.0,\n",
      "      0.0,\n",
      "      0.0\n",
      "    ],\n",
      "    \"vmpp\": [\n",
      "      0.0,\n",
      "      0.0,\n",
      "      0.0,\n",
      "      0.0,\n",
      "      0.0\n",
      "    ],\n",
      "    \"voc\": [\n",
      "      0.0,\n",
      "      0.0,\n",
      "      0.0,\n",
      "      0.0,\n",
      "      0.0\n",
      "    ]\n",
      "  }\n",
      "}\n"
     ]
    }
   ],
   "source": [
    "import dlite\n",
    "import pandas as pd\n",
    "\n",
    "\n",
    "SolarPanelEntity = dlite.Instance.from_location('json', 'myEntity_try2.json')\n",
    "print(SolarPanelEntity.uri)\n",
    "solar_df = pd.read_csv('data.csv', sep=',', header=0)\n",
    "print(len(solar_df))\n",
    "\n",
    "inst = SolarPanelEntity({\"N\": len(solar_df)})\n",
    "print(inst)\n",
    "\n",
    "mapping = {\n",
    "    \"t\": \"time\",\n",
    "    \"MPP\": \"MPP_MS04\",\n",
    "    \"voc\": \"voc_MS04\",\n",
    "    \"vmpp\": \"vmpp_MS04\",\n",
    "    \"isc\": \"isc_MS04\",\n",
    "    \"impp\": \"Impp_MS04\"\n",
    "    \n",
    "}\n",
    "\n",
    "for key in mapping:\n",
    "    inst[key] = solar_df[mapping[key]]\n"
   ]
  },
  {
   "cell_type": "code",
   "execution_count": 2,
   "metadata": {},
   "outputs": [
    {
     "name": "stdout",
     "output_type": "stream",
     "text": [
      "{\n",
      "  \"uuid\": \"72b07c5c-8e96-4c45-8f7b-61e717442ea7\",\n",
      "  \"meta\": \"http://www.ontotrans.eu/0.1/solarPanelMeasurement\",\n",
      "  \"dimensions\": {\n",
      "    \"N\": 5\n",
      "  },\n",
      "  \"properties\": {\n",
      "    \"t\": [\n",
      "      \"2022-08-13 12:13:00\",\n",
      "      \"2022-08-13 12:14:00\",\n",
      "      \"2022-08-13 12:15:00\",\n",
      "      \"2022-08-13 12:16:00\",\n",
      "      \"2022-08-13 12:17:00\"\n",
      "    ],\n",
      "    \"MPP\": [\n",
      "      38.182,\n",
      "      37.029,\n",
      "      37.387,\n",
      "      39.107,\n",
      "      40.179\n",
      "    ],\n",
      "    \"impp\": [\n",
      "      1.188,\n",
      "      1.155,\n",
      "      1.16,\n",
      "      1.213,\n",
      "      1.242\n",
      "    ],\n",
      "    \"isc\": [\n",
      "      1.25,\n",
      "      1.213,\n",
      "      1.224,\n",
      "      1.277,\n",
      "      1.309\n",
      "    ],\n",
      "    \"vmpp\": [\n",
      "      32.14,\n",
      "      32.06,\n",
      "      32.23,\n",
      "      32.24,\n",
      "      32.35\n",
      "    ],\n",
      "    \"voc\": [\n",
      "      37.33,\n",
      "      37.29,\n",
      "      37.32,\n",
      "      37.4,\n",
      "      37.47\n",
      "    ]\n",
      "  }\n",
      "}\n"
     ]
    }
   ],
   "source": [
    "print(inst)"
   ]
  },
  {
   "cell_type": "code",
   "execution_count": 6,
   "metadata": {},
   "outputs": [
    {
     "name": "stdout",
     "output_type": "stream",
     "text": [
      "{'uri': 'http://www.ontotrans.eu/0.1/solarPanelMeasurement_2', 'meta': 'http://onto-ns.com/meta/0.3/EntitySchema', 'description': 'Measurement data from one solar panel.', 'dimensions': [{'name': 'N', 'description': 'Number of rows.'}], 'properties': [{'name': 't', 'type': 'str', 'unit': 'ns', 'dims': ['N'], 'description': 'Time'}, {'name': 'MPP', 'type': 'float64', 'unit': 'W', 'dims': ['N'], 'description': 'Maximum Power'}]}\n"
     ]
    }
   ],
   "source": [
    "import dlite\n",
    "import json\n",
    "\n",
    "with open('myEntity.json') as entity_file:\n",
    "    data1 = json.load(entity_file)\n",
    "\n",
    "dlite.storage_path.append('myEntity.json')\n",
    "SolarPanelEntity = dlite.get_instance(data1['uri']) \n",
    "print(data1)"
   ]
  },
  {
   "cell_type": "code",
   "execution_count": 7,
   "metadata": {},
   "outputs": [],
   "source": [
    "import dlite\n",
    "import json\n",
    "\n",
    "# Open the file and load its contents,\n",
    "with open('myEntity.json') as entity_file:\n",
    "    data = json.load(entity_file)\n",
    "\n",
    "print(data)\n",
    "# Append filepath to storage path\n",
    "dlite.storage_path.append('myEntity.json')\n",
    "\n",
    "# Load Entity\n",
    "SolarPanelEntity = dlite.get_instance(data['uri'])"
   ]
  }
 ],
 "metadata": {
  "kernelspec": {
   "display_name": "DLite",
   "language": "python",
   "name": "python3"
  },
  "language_info": {
   "codemirror_mode": {
    "name": "ipython",
    "version": 3
   },
   "file_extension": ".py",
   "mimetype": "text/x-python",
   "name": "python",
   "nbconvert_exporter": "python",
   "pygments_lexer": "ipython3",
   "version": "3.9.1"
  },
  "orig_nbformat": 4,
  "vscode": {
   "interpreter": {
    "hash": "e5076875499086a5d63827b32adae35b32bfe8802b9fc6174c2d412c9af87443"
   }
  }
 },
 "nbformat": 4,
 "nbformat_minor": 2
}
