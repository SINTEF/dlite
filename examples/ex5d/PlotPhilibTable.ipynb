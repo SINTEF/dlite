{
 "cells": [
  {
   "cell_type": "code",
   "execution_count": null,
   "metadata": {},
   "outputs": [],
   "source": [
    "import json\n",
    "import numpy as np\n",
    "import matplotlib.pyplot as plt\n",
    "%matplotlib inline"
   ]
  },
  {
   "cell_type": "code",
   "execution_count": null,
   "metadata": {},
   "outputs": [],
   "source": [
    "with open('./build/example-AlMgSi.json') as json_file:  \n",
    "    data = json.load(json_file)"
   ]
  },
  {
   "cell_type": "code",
   "execution_count": null,
   "metadata": {},
   "outputs": [],
   "source": [
    "data"
   ]
  },
  {
   "cell_type": "code",
   "execution_count": null,
   "metadata": {},
   "outputs": [],
   "source": [
    "id='d3d18712-3e8f-5f02-a1ea-ab147199c4f1'"
   ]
  },
  {
   "cell_type": "code",
   "execution_count": null,
   "metadata": {},
   "outputs": [],
   "source": [
    "data[id][\"properties\"][\"varnames\"]"
   ]
  },
  {
   "cell_type": "code",
   "execution_count": null,
   "metadata": {},
   "outputs": [],
   "source": [
    "list=data[id][\"properties\"][\"points\"]\n",
    "listVal=data[id][\"properties\"][\"calcvalues\"]"
   ]
  },
  {
   "cell_type": "code",
   "execution_count": null,
   "metadata": {},
   "outputs": [],
   "source": [
    "T, Si = zip(*list)\n",
    "Alfv, AlconcMg,AlconcSi, Liqfv, LiqconcMg,LiqconcSi,Bfv, BconcMg,BconcSi =zip(*listVal)"
   ]
  },
  {
   "cell_type": "code",
   "execution_count": null,
   "metadata": {},
   "outputs": [],
   "source": [
    "plt.scatter(Si,T)"
   ]
  },
  {
   "cell_type": "code",
   "execution_count": null,
   "metadata": {},
   "outputs": [],
   "source": []
  },
  {
   "cell_type": "code",
   "execution_count": null,
   "metadata": {},
   "outputs": [],
   "source": [
    "ax=plt.tricontourf(Si,T,Alfv,levels=np.linspace(0.93,1.0,20), cmap='seismic',extend='both')\n",
    "cbar=plt.colorbar(ax)\n",
    "cbar.ax.set_ylabel(data[id][\"properties\"][\"calcnames\"][0])\n",
    "plt.xlabel(data[id][\"properties\"][\"varnames\"][1])\n",
    "plt.ylabel(data[id][\"properties\"][\"varnames\"][0])"
   ]
  },
  {
   "cell_type": "code",
   "execution_count": null,
   "metadata": {},
   "outputs": [],
   "source": [
    "ax=plt.tricontourf(Si,T,Bfv,20, cmap='seismic',extend='both')\n",
    "cbar=plt.colorbar(ax)\n",
    "cbar.ax.set_ylabel(data[id][\"properties\"][\"calcnames\"][6])\n",
    "plt.xlabel(data[id][\"properties\"][\"varnames\"][1])\n",
    "plt.ylabel(data[id][\"properties\"][\"varnames\"][0])"
   ]
  },
  {
   "cell_type": "code",
   "execution_count": null,
   "metadata": {},
   "outputs": [],
   "source": [
    "ax=plt.tricontourf(Si,T,Liqfv,20, cmap='seismic',extend='both')\n",
    "cbar=plt.colorbar(ax)\n",
    "cbar.ax.set_ylabel(data[id][\"properties\"][\"calcnames\"][3])\n",
    "plt.xlabel(data[id][\"properties\"][\"varnames\"][1])\n",
    "plt.ylabel(data[id][\"properties\"][\"varnames\"][0])"
   ]
  },
  {
   "cell_type": "code",
   "execution_count": null,
   "metadata": {},
   "outputs": [],
   "source": [
    "ax=plt.tricontourf(Si,T,AlconcMg,20, cmap='seismic', extend='both')\n",
    "cbar=plt.colorbar(ax)\n",
    "cbar.ax.set_ylabel(data[id][\"properties\"][\"calcnames\"][1])\n",
    "plt.xlabel(data[id][\"properties\"][\"varnames\"][1])\n",
    "plt.ylabel(data[id][\"properties\"][\"varnames\"][0])"
   ]
  },
  {
   "cell_type": "code",
   "execution_count": null,
   "metadata": {},
   "outputs": [],
   "source": [
    "max_value = max(Bfv)\n",
    "min_value = min(Bfv)\n",
    "avg_value = sum(Bfv)/len(Bfv)\n",
    "min_value, avg_value, max_value"
   ]
  },
  {
   "cell_type": "code",
   "execution_count": null,
   "metadata": {},
   "outputs": [],
   "source": []
  }
 ],
 "metadata": {
  "language_info": {
   "name": "python",
   "pygments_lexer": "ipython3"
  }
 },
 "nbformat": 4,
 "nbformat_minor": 2
}
